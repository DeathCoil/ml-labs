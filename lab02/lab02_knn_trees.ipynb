{
 "cells": [
  {
   "cell_type": "markdown",
   "metadata": {},
   "source": [
    "# Лабораторная работа 2. Метод ближайших соседей и решающие деревья."
   ]
  },
  {
   "cell_type": "markdown",
   "metadata": {},
   "source": [
    "ФИО: Николаев Владимир Владимирович\n",
    "\n",
    "Группа: 317"
   ]
  },
  {
   "cell_type": "code",
   "execution_count": 1,
   "metadata": {
    "collapsed": false
   },
   "outputs": [],
   "source": [
    "import numpy as np\n",
    "import pandas as pd\n",
    "import scipy\n",
    "from sklearn import metrics\n",
    "import sklearn.preprocessing"
   ]
  },
  {
   "cell_type": "markdown",
   "metadata": {},
   "source": [
    "Все эксперименты в этой лабораторной работе предлагается проводить на данных соревнования Amazon Employee Access Challenge: https://www.kaggle.com/c/amazon-employee-access-challenge\n",
    "\n",
    "В данной задаче предлагается предсказать, будет ли одобрен запрос сотрудника на получение доступа к тому или иному ресурсу. Все признаки являются категориальными.\n",
    "\n",
    "Для удобства данные можно загрузить по ссылке: https://www.dropbox.com/s/q6fbs1vvhd5kvek/amazon.csv\n",
    "\n",
    "Сразу прочитаем данные и создадим разбиение на обучение и контроль:"
   ]
  },
  {
   "cell_type": "code",
   "execution_count": 2,
   "metadata": {
    "collapsed": false
   },
   "outputs": [
    {
     "data": {
      "text/html": [
       "<div>\n",
       "<table border=\"1\" class=\"dataframe\">\n",
       "  <thead>\n",
       "    <tr style=\"text-align: right;\">\n",
       "      <th></th>\n",
       "      <th>ACTION</th>\n",
       "      <th>RESOURCE</th>\n",
       "      <th>MGR_ID</th>\n",
       "      <th>ROLE_ROLLUP_1</th>\n",
       "      <th>ROLE_ROLLUP_2</th>\n",
       "      <th>ROLE_DEPTNAME</th>\n",
       "      <th>ROLE_TITLE</th>\n",
       "      <th>ROLE_FAMILY_DESC</th>\n",
       "      <th>ROLE_FAMILY</th>\n",
       "      <th>ROLE_CODE</th>\n",
       "    </tr>\n",
       "  </thead>\n",
       "  <tbody>\n",
       "    <tr>\n",
       "      <th>0</th>\n",
       "      <td>1</td>\n",
       "      <td>39353</td>\n",
       "      <td>85475</td>\n",
       "      <td>117961</td>\n",
       "      <td>118300</td>\n",
       "      <td>123472</td>\n",
       "      <td>117905</td>\n",
       "      <td>117906</td>\n",
       "      <td>290919</td>\n",
       "      <td>117908</td>\n",
       "    </tr>\n",
       "    <tr>\n",
       "      <th>1</th>\n",
       "      <td>1</td>\n",
       "      <td>17183</td>\n",
       "      <td>1540</td>\n",
       "      <td>117961</td>\n",
       "      <td>118343</td>\n",
       "      <td>123125</td>\n",
       "      <td>118536</td>\n",
       "      <td>118536</td>\n",
       "      <td>308574</td>\n",
       "      <td>118539</td>\n",
       "    </tr>\n",
       "    <tr>\n",
       "      <th>2</th>\n",
       "      <td>1</td>\n",
       "      <td>36724</td>\n",
       "      <td>14457</td>\n",
       "      <td>118219</td>\n",
       "      <td>118220</td>\n",
       "      <td>117884</td>\n",
       "      <td>117879</td>\n",
       "      <td>267952</td>\n",
       "      <td>19721</td>\n",
       "      <td>117880</td>\n",
       "    </tr>\n",
       "    <tr>\n",
       "      <th>3</th>\n",
       "      <td>1</td>\n",
       "      <td>36135</td>\n",
       "      <td>5396</td>\n",
       "      <td>117961</td>\n",
       "      <td>118343</td>\n",
       "      <td>119993</td>\n",
       "      <td>118321</td>\n",
       "      <td>240983</td>\n",
       "      <td>290919</td>\n",
       "      <td>118322</td>\n",
       "    </tr>\n",
       "    <tr>\n",
       "      <th>4</th>\n",
       "      <td>1</td>\n",
       "      <td>42680</td>\n",
       "      <td>5905</td>\n",
       "      <td>117929</td>\n",
       "      <td>117930</td>\n",
       "      <td>119569</td>\n",
       "      <td>119323</td>\n",
       "      <td>123932</td>\n",
       "      <td>19793</td>\n",
       "      <td>119325</td>\n",
       "    </tr>\n",
       "  </tbody>\n",
       "</table>\n",
       "</div>"
      ],
      "text/plain": [
       "   ACTION  RESOURCE  MGR_ID  ROLE_ROLLUP_1  ROLE_ROLLUP_2  ROLE_DEPTNAME  \\\n",
       "0       1     39353   85475         117961         118300         123472   \n",
       "1       1     17183    1540         117961         118343         123125   \n",
       "2       1     36724   14457         118219         118220         117884   \n",
       "3       1     36135    5396         117961         118343         119993   \n",
       "4       1     42680    5905         117929         117930         119569   \n",
       "\n",
       "   ROLE_TITLE  ROLE_FAMILY_DESC  ROLE_FAMILY  ROLE_CODE  \n",
       "0      117905            117906       290919     117908  \n",
       "1      118536            118536       308574     118539  \n",
       "2      117879            267952        19721     117880  \n",
       "3      118321            240983       290919     118322  \n",
       "4      119323            123932        19793     119325  "
      ]
     },
     "execution_count": 2,
     "metadata": {},
     "output_type": "execute_result"
    }
   ],
   "source": [
    "data = pd.read_csv('amazon.csv')\n",
    "data.head()"
   ]
  },
  {
   "cell_type": "code",
   "execution_count": 3,
   "metadata": {
    "collapsed": false
   },
   "outputs": [
    {
     "data": {
      "text/plain": [
       "(32769, 10)"
      ]
     },
     "execution_count": 3,
     "metadata": {},
     "output_type": "execute_result"
    }
   ],
   "source": [
    "data.shape"
   ]
  },
  {
   "cell_type": "code",
   "execution_count": 4,
   "metadata": {
    "collapsed": false
   },
   "outputs": [
    {
     "data": {
      "text/plain": [
       "0.94210992096188473"
      ]
     },
     "execution_count": 4,
     "metadata": {},
     "output_type": "execute_result"
    }
   ],
   "source": [
    "# доля положительных примеров\n",
    "data.ACTION.mean()"
   ]
  },
  {
   "cell_type": "code",
   "execution_count": 5,
   "metadata": {
    "collapsed": false
   },
   "outputs": [
    {
     "name": "stdout",
     "output_type": "stream",
     "text": [
      "ACTION 2\n",
      "RESOURCE 7518\n",
      "MGR_ID 4243\n",
      "ROLE_ROLLUP_1 128\n",
      "ROLE_ROLLUP_2 177\n",
      "ROLE_DEPTNAME 449\n",
      "ROLE_TITLE 343\n",
      "ROLE_FAMILY_DESC 2358\n",
      "ROLE_FAMILY 67\n",
      "ROLE_CODE 343\n"
     ]
    }
   ],
   "source": [
    "# число значений у признаков\n",
    "for col_name in data.columns:\n",
    "    print col_name, len(data[col_name].unique())"
   ]
  },
  {
   "cell_type": "code",
   "execution_count": 6,
   "metadata": {
    "collapsed": true
   },
   "outputs": [],
   "source": [
    "from sklearn.cross_validation import train_test_split\n",
    "X_train, X_test, y_train, y_test = train_test_split(data.iloc[:, 1:], data.iloc[:, 0],\n",
    "                                                    test_size=0.3, random_state=241)"
   ]
  },
  {
   "cell_type": "markdown",
   "metadata": {},
   "source": [
    "## Часть 1: kNN и категориальные признаки"
   ]
  },
  {
   "cell_type": "markdown",
   "metadata": {},
   "source": [
    "#### 1. Реализуйте три функции расстояния на категориальных признаках, которые обсуждались на втором семинаре. Реализуйте самостоятельно метод k ближайших соседей, который будет уметь работать с этими функциями расстояния. Подсчитайте для каждой из них качество на тестовой выборке `X_test` при числе соседей $k = 10$. Метрика качества — AUC-ROC.\n",
    "\n",
    "Какая функция расстояния оказалась лучшей?"
   ]
  },
  {
   "cell_type": "code",
   "execution_count": 7,
   "metadata": {
    "collapsed": true
   },
   "outputs": [],
   "source": [
    "def label_encode_features(X_train, X_test):\n",
    "    for column_name in X_train.columns:\n",
    "        le = sklearn.preprocessing.LabelEncoder()\n",
    "        le.fit(pd.concat((X_train, X_test))[column_name])\n",
    "        X_train[column_name] = le.transform(X_train[column_name])\n",
    "        X_test[column_name] = le.transform(X_test[column_name])    "
   ]
  },
  {
   "cell_type": "code",
   "execution_count": 8,
   "metadata": {
    "collapsed": false
   },
   "outputs": [],
   "source": [
    "def dst1(X, Z, X_train):\n",
    "    dst = np.empty((X.shape[0], Z.shape[0]))\n",
    "    for i in xrange(X.shape[0]):\n",
    "        dst[i, :] = np.sum(X[i, :] != Z, axis=1)\n",
    "    \n",
    "    return dst\n",
    "\n",
    "\n",
    "def dst2(X, Z, X_train):\n",
    "    dst = np.zeros((np.size(X, axis=0), np.size(Z, axis=0)))\n",
    "    l = 1.*X_train.shape[0]\n",
    "    \n",
    "    pX = np.empty(X_train.shape[1], dtype=np.ndarray)\n",
    "    pX_counts = np.empty(X_train.shape[1], dtype=np.ndarray)\n",
    "    pX_sq = np.empty(X_train.shape[1], dtype=np.ndarray)\n",
    "    pX_sq_counts = np.empty(X_train.shape[1], dtype=np.ndarray)\n",
    "    \n",
    "    for j in xrange(X_train.shape[1]):\n",
    "        pX[j] = np.array(np.unique(X_train[:, j], return_counts=True)[0], dtype=np.int32)\n",
    "        pX_counts[j] = np.array(np.unique(X_train[:, j], return_counts=True)[1], dtype=np.int32)\n",
    "        pX_sq[j] = np.array(np.unique(X_train[:, j], return_counts=True)[0], dtype=np.float32)\n",
    "        pX_sq_counts[j] = np.array(np.unique(X_train[:, j], return_counts=True)[1], dtype=np.float32)\n",
    "        pX[j][1] = pX[j][1].astype(np.float32) / l\n",
    "        pX_sq_counts[j] = pX_sq_counts[j]*(pX_sq_counts[j]-1)/l/(l-1)\n",
    "    \n",
    "    \n",
    "    for i in xrange(X.shape[0]):\n",
    "        for j in xrange(X.shape[1]):\n",
    "            w = pX[j] == X[i, j]\n",
    "            if np.sum(w) == 1:\n",
    "                dst[i, :] += (Z[:, j] == X[i, j]).T*np.sum(pX_sq_counts[j][pX_counts[j] < pX_counts[j][w]])\n",
    "        dst[i, :] += np.sum(X[i, :] != Z, axis=1)\n",
    "    return dst\n",
    "        \n",
    "\n",
    "def dst3(X, Z, X_train):\n",
    "    dst = np.empty((np.size(X, axis=0), np.size(Z, axis=0)))\n",
    "    \n",
    "    log_fX = np.empty_like(X, dtype=np.float32)\n",
    "    log_fZ = np.empty_like(Z, dtype=np.float32)\n",
    "    for i in xrange(X.shape[0]):\n",
    "        log_fX[i, :] = np.log(np.sum((X[i, :] == X_train), axis=0))\n",
    "    for i in xrange(Z.shape[0]):\n",
    "        log_fZ[i, :] = np.log(np.sum((Z[i, :] == X_train), axis=0))\n",
    "    \n",
    "    for i in xrange(X.shape[0]):\n",
    "        dst[i, :] = np.sum((X[i, :] != Z)*log_fX[i, :]*log_fZ, axis=1)\n",
    "    \n",
    "    return dst"
   ]
  },
  {
   "cell_type": "code",
   "execution_count": 9,
   "metadata": {
    "collapsed": true
   },
   "outputs": [],
   "source": [
    "class Knn:\n",
    "    def fit(self, X, y, k=1, dst_func=dst1):\n",
    "        self.X = np.copy(X)\n",
    "        self.y = np.copy(y)\n",
    "        self.k = k\n",
    "        self.dst_func = dst_func\n",
    "        \n",
    "        self.l = np.size(X, axis=0)\n",
    "        \n",
    "    def predict(self, X_test):\n",
    "        l_test = X_test.shape[0]\n",
    "        dst = self.dst_func(X_test, self.X, self.X)\n",
    "        y_pred = np.empty(l_test)   \n",
    "        for i in range(l_test):\n",
    "            y_pred[i] = np.mean(self.y[dst[i, :].argsort()][:self.k])\n",
    "        return y_pred"
   ]
  },
  {
   "cell_type": "code",
   "execution_count": 10,
   "metadata": {
    "collapsed": true
   },
   "outputs": [],
   "source": [
    "label_encode_features(X_train, X_test)"
   ]
  },
  {
   "cell_type": "code",
   "execution_count": 11,
   "metadata": {
    "collapsed": false
   },
   "outputs": [
    {
     "name": "stdout",
     "output_type": "stream",
     "text": [
      "Distance function: 1 k = 10 AUC: 0.83088009598\n",
      "Distance function: 2 k = 10 AUC: 0.836556363537\n",
      "Distance function: 3 k = 10 AUC: 0.718142059533\n"
     ]
    }
   ],
   "source": [
    "dst_funcs = [dst1, dst2, dst3]\n",
    "for n, dst_func in enumerate(dst_funcs):\n",
    "    model = Knn()\n",
    "    model.fit(X_train.values, y_train.values, k=10, dst_func=dst_func)\n",
    "    y_pred = model.predict(X_test.values)\n",
    "    auc = metrics.roc_auc_score(y_test, y_pred)\n",
    "    print \"Distance function:\", n+1,\"k = 10 AUC:\", auc"
   ]
  },
  {
   "cell_type": "markdown",
   "metadata": {},
   "source": [
    "Лучшей оказалась вторая функция расстояния (сглаженный индикатор совпадения)."
   ]
  },
  {
   "cell_type": "markdown",
   "metadata": {},
   "source": [
    "#### 2 (бонус). Подберите лучшее (на тестовой выборке) число соседей $k$ для каждой из функций расстояния. Какое наилучшее качество удалось достичь?"
   ]
  },
  {
   "cell_type": "code",
   "execution_count": 12,
   "metadata": {
    "collapsed": true
   },
   "outputs": [],
   "source": [
    "def parametr_tuning(X_train, y_train, X_test, y_test, param_grid):\n",
    "    model = Knn()\n",
    "    for k in param_grid[\"k\"]:\n",
    "        model.fit(X_train.values, y_train.values, k=k, dst_func=param_grid[\"dst_func\"][1])\n",
    "        y_pred = model.predict(X_test.values)\n",
    "        auc = metrics.roc_auc_score(y_test.values, y_pred)\n",
    "        print \"Distance function:\", param_grid[\"dst_func\"][0],\"k =\", k ,\"AUC:\", auc"
   ]
  },
  {
   "cell_type": "code",
   "execution_count": 13,
   "metadata": {
    "collapsed": false
   },
   "outputs": [
    {
     "name": "stdout",
     "output_type": "stream",
     "text": [
      "Distance function: dst1 k = 1 AUC: 0.709392461188\n",
      "Distance function: dst1 k = 2 AUC: 0.777446570068\n",
      "Distance function: dst1 k = 4 AUC: 0.814440745988\n",
      "Distance function: dst1 k = 8 AUC: 0.830774695372\n",
      "Distance function: dst1 k = 16 AUC: 0.828001122835\n",
      "Distance function: dst1 k = 32 AUC: 0.805931691061\n",
      "Distance function: dst1 k = 64 AUC: 0.778917146675\n"
     ]
    }
   ],
   "source": [
    "parametr_tuning(X_train, y_train, X_test, y_test, {\"k\": [1, 2, 4, 8, 16, 32, 64], \"dst_func\": [\"dst1\", dst1]})"
   ]
  },
  {
   "cell_type": "code",
   "execution_count": 14,
   "metadata": {
    "collapsed": false
   },
   "outputs": [
    {
     "name": "stdout",
     "output_type": "stream",
     "text": [
      "Distance function: dst1 k = 4 AUC: 0.814440745988\n",
      "Distance function: dst1 k = 5 AUC: 0.822305895749\n",
      "Distance function: dst1 k = 6 AUC: 0.82708243927\n",
      "Distance function: dst1 k = 7 AUC: 0.828995914087\n",
      "Distance function: dst1 k = 8 AUC: 0.830774695372\n",
      "Distance function: dst1 k = 9 AUC: 0.829924122344\n",
      "Distance function: dst1 k = 10 AUC: 0.83088009598\n",
      "Distance function: dst1 k = 11 AUC: 0.831201958708\n",
      "Distance function: dst1 k = 12 AUC: 0.829705773258\n",
      "Distance function: dst1 k = 13 AUC: 0.83102602146\n",
      "Distance function: dst1 k = 14 AUC: 0.830949015219\n",
      "Distance function: dst1 k = 15 AUC: 0.828103648065\n",
      "Distance function: dst1 k = 16 AUC: 0.828001122835\n",
      "Distance function: dst1 k = 17 AUC: 0.824370327959\n",
      "Distance function: dst1 k = 18 AUC: 0.825269423005\n",
      "Distance function: dst1 k = 19 AUC: 0.824044781151\n"
     ]
    }
   ],
   "source": [
    "parametr_tuning(X_train, y_train, X_test, y_test, {\"k\": np.arange(4, 20), \"dst_func\": [\"dst1\", dst1]})"
   ]
  },
  {
   "cell_type": "code",
   "execution_count": 15,
   "metadata": {
    "collapsed": false
   },
   "outputs": [
    {
     "name": "stdout",
     "output_type": "stream",
     "text": [
      "Distance function: dst2 k = 1 AUC: 0.706829420302\n",
      "Distance function: dst2 k = 2 AUC: 0.771666699015\n",
      "Distance function: dst2 k = 4 AUC: 0.819613462812\n",
      "Distance function: dst2 k = 8 AUC: 0.839621607322\n",
      "Distance function: dst2 k = 16 AUC: 0.824788426025\n",
      "Distance function: dst2 k = 32 AUC: 0.808739318866\n",
      "Distance function: dst2 k = 64 AUC: 0.778007089247\n"
     ]
    }
   ],
   "source": [
    "parametr_tuning(X_train, y_train, X_test, y_test, {\"k\": [1, 2, 4, 8, 16, 32, 64], \"dst_func\": [\"dst2\", dst2]})"
   ]
  },
  {
   "cell_type": "code",
   "execution_count": 16,
   "metadata": {
    "collapsed": false
   },
   "outputs": [
    {
     "name": "stdout",
     "output_type": "stream",
     "text": [
      "Distance function: dst2 k = 4 AUC: 0.819613462812\n",
      "Distance function: dst2 k = 5 AUC: 0.829940296351\n",
      "Distance function: dst2 k = 6 AUC: 0.836720799269\n",
      "Distance function: dst2 k = 7 AUC: 0.837461119486\n",
      "Distance function: dst2 k = 8 AUC: 0.839621607322\n",
      "Distance function: dst2 k = 9 AUC: 0.838259755981\n",
      "Distance function: dst2 k = 10 AUC: 0.836556363537\n",
      "Distance function: dst2 k = 11 AUC: 0.835299373671\n",
      "Distance function: dst2 k = 12 AUC: 0.832711263075\n",
      "Distance function: dst2 k = 13 AUC: 0.831060166585\n",
      "Distance function: dst2 k = 14 AUC: 0.827797150643\n",
      "Distance function: dst2 k = 15 AUC: 0.825991502536\n",
      "Distance function: dst2 k = 16 AUC: 0.824788426025\n",
      "Distance function: dst2 k = 17 AUC: 0.824283078179\n",
      "Distance function: dst2 k = 18 AUC: 0.82537733957\n",
      "Distance function: dst2 k = 19 AUC: 0.821820046567\n"
     ]
    }
   ],
   "source": [
    "parametr_tuning(X_train, y_train, X_test, y_test, {\"k\": np.arange(4, 20), \"dst_func\": [\"dst2\", dst2]})"
   ]
  },
  {
   "cell_type": "code",
   "execution_count": 17,
   "metadata": {
    "collapsed": false,
    "scrolled": true
   },
   "outputs": [
    {
     "name": "stdout",
     "output_type": "stream",
     "text": [
      "Distance function: dst3 k = 1 AUC: 0.64435004216\n",
      "Distance function: dst3 k = 2 AUC: 0.682946702695\n",
      "Distance function: dst3 k = 4 AUC: 0.706842988496\n",
      "Distance function: dst3 k = 8 AUC: 0.718966125161\n",
      "Distance function: dst3 k = 16 AUC: 0.701642955573\n",
      "Distance function: dst3 k = 32 AUC: 0.672374563392\n",
      "Distance function: dst3 k = 64 AUC: 0.667592898102\n"
     ]
    }
   ],
   "source": [
    "parametr_tuning(X_train, y_train, X_test, y_test, {\"k\": [1, 2, 4, 8, 16, 32, 64], \"dst_func\": [\"dst3\", dst3]})"
   ]
  },
  {
   "cell_type": "code",
   "execution_count": 18,
   "metadata": {
    "collapsed": false,
    "scrolled": true
   },
   "outputs": [
    {
     "name": "stdout",
     "output_type": "stream",
     "text": [
      "Distance function: dst3 k = 4 AUC: 0.706842988496\n",
      "Distance function: dst3 k = 5 AUC: 0.711329747736\n",
      "Distance function: dst3 k = 6 AUC: 0.714968809327\n",
      "Distance function: dst3 k = 7 AUC: 0.717862339078\n",
      "Distance function: dst3 k = 8 AUC: 0.718966125161\n",
      "Distance function: dst3 k = 9 AUC: 0.718321141727\n",
      "Distance function: dst3 k = 10 AUC: 0.718142059533\n",
      "Distance function: dst3 k = 11 AUC: 0.716000800793\n",
      "Distance function: dst3 k = 12 AUC: 0.712396513316\n",
      "Distance function: dst3 k = 13 AUC: 0.709484563169\n",
      "Distance function: dst3 k = 14 AUC: 0.704252541655\n",
      "Distance function: dst3 k = 15 AUC: 0.702557955059\n",
      "Distance function: dst3 k = 16 AUC: 0.701642955573\n",
      "Distance function: dst3 k = 17 AUC: 0.700496308373\n",
      "Distance function: dst3 k = 18 AUC: 0.69852712309\n",
      "Distance function: dst3 k = 19 AUC: 0.698015215786\n"
     ]
    }
   ],
   "source": [
    "parametr_tuning(X_train, y_train, X_test, y_test, {\"k\": np.arange(4, 20), \"dst_func\": [\"dst3\", dst3]})"
   ]
  },
  {
   "cell_type": "markdown",
   "metadata": {},
   "source": [
    "1. Функция расстояния 1: максимальный AUC-ROC равен 0.831 при k=11\n",
    "2. Функция расстояния 2: максимальный AUC-ROC равен 0.840 при k=8\n",
    "3. Функция расстояния 3: максимальный AUC-ROC равен 0.719 при k=8"
   ]
  },
  {
   "cell_type": "markdown",
   "metadata": {},
   "source": [
    "#### 3. Реализуйте счетчики (http://blogs.technet.com/b/machinelearning/archive/2015/02/17/big-learning-made-easy-with-counts.aspx), которые заменят категориальные признаки на вещественные.\n",
    "\n",
    "А именно, каждый категориальный признак нужно заменить на три: \n",
    "1. Число `counts` объектов в обучающей выборке с таким же значением признака.\n",
    "2. Число `clicks` объектов первого класса ($y = 1$) в обучающей выборке с таким же значением признака.\n",
    "3. Сглаженное отношение двух предыдущих величин: (`clicks` + 1) / (`counts` + 2).\n",
    "\n",
    "Поскольку признаки, содержащие информацию о целевой переменной, могут привести к переобучению, может оказаться полезным сделать *фолдинг*: разбить обучающую выборку на $n$ частей, и для $i$-й части считать `counts` и `clicks` по всем остальным частям. Для тестовой выборки используются счетчики, посчитанный по всей обучающей выборке. Реализуйте и такой вариант. Можно использовать $n = 3$.\n",
    "\n",
    "#### Посчитайте на тесте AUC-ROC метода $k$ ближайших соседей с евклидовой метрикой для выборки, где категориальные признаки заменены на счетчики. Сравните по AUC-ROC два варианта формирования выборки — с фолдингом и без. Не забудьте подобрать наилучшее число соседей $k$."
   ]
  },
  {
   "cell_type": "code",
   "execution_count": 19,
   "metadata": {
    "collapsed": true
   },
   "outputs": [],
   "source": [
    "from sklearn.cross_validation import KFold"
   ]
  },
  {
   "cell_type": "code",
   "execution_count": 20,
   "metadata": {
    "collapsed": false
   },
   "outputs": [],
   "source": [
    "def convert_feature(feature, X_train, y_train, X_test, test_index):\n",
    "    feature_column = X_train[feature].values\n",
    "    max_plus_one = np.nanmax(feature_column) + 1\n",
    "    feature_column[np.isnan(feature_column)] = max_plus_one\n",
    "    target = y_train.values\n",
    "\n",
    "    l = X_test.shape[0]\n",
    "    if test_index is None:\n",
    "        test_index = np.arange(l, dtype=np.int32)\n",
    "    bool_index = np.zeros(l, dtype=np.bool)\n",
    "    bool_index[test_index] = True\n",
    "    \n",
    "    bool_index_nan_test = np.isnan(X_test[feature].values)\n",
    "    X_test.ix[bool_index_nan_test, feature] = max_plus_one\n",
    "    \n",
    "    bincount = np.bincount(feature_column.astype(np.int64))\n",
    "    bincount = np.lib.pad(bincount, (0, np.abs(np.max(X_test[feature]).astype(np.int64) - bincount.shape[0])+1), \"constant\", constant_values=(0, 0))\n",
    "    bincount_ones = np.bincount(feature_column[target == 1].astype(np.int64))\n",
    "    bincount_ones = np.lib.pad(bincount_ones, (0, bincount.shape[0] - bincount_ones.shape[0]), \"constant\", constant_values=(0, 0))\n",
    " \n",
    "    X_test.ix[bool_index, feature+\"_counts\"] = 1.0*bincount[X_test.ix[bool_index, feature].values.astype(np.int64)]/feature_column.shape[0]\n",
    "    X_test.ix[bool_index, feature+\"_clicks\"] = 1.0*bincount_ones[X_test.ix[bool_index, feature].values.astype(np.int64)]/feature_column.shape[0]    \n",
    "    \n",
    "def categories_to_counters(X_train_, X_test_, y_train_, folding=True, inplace=False):  \n",
    "    X_train = X_train_.copy(deep=True)\n",
    "    X_test = X_test_.copy(deep=True)\n",
    "    \n",
    "    N_FOLDS = 5\n",
    "    \n",
    "    old_features = np.copy(X_train.columns)\n",
    "    \n",
    "    for feature in old_features:\n",
    "        np.random.seed(1234)\n",
    "        kf = KFold(X_train.values.shape[0], n_folds=N_FOLDS, random_state=1234)\n",
    "        \n",
    "        if folding:\n",
    "            for train_index, test_index in kf:\n",
    "                convert_feature(feature, X_train.ix[train_index], y_train[train_index], X_train, test_index)\n",
    "            convert_feature(feature, X_train, y_train, X_test, test_index=None)\n",
    "        else:\n",
    "            convert_feature(feature, X_train, y_train, X_train, test_index=None)\n",
    "            convert_feature(feature, X_train, y_train, X_test, test_index=None)\n",
    "        \n",
    "        X_train[feature+\"_clicks_by_counts\"] = (X_train[feature+\"_clicks\"]*X_train.shape[0]*1.*(N_FOLDS-1)/N_FOLDS+1)/(X_train[feature+\"_counts\"]*X_train.shape[0]*1.*(N_FOLDS-1)/N_FOLDS+2)\n",
    "        X_test[feature+\"_clicks_by_counts\"] = (X_test[feature+\"_clicks\"]*X_train.shape[0]+1)/(X_test[feature+\"_counts\"]*X_train.shape[0]+2)\n",
    "    \n",
    "    X_train.drop(old_features, axis=1, inplace=True)\n",
    "    X_test.drop(old_features, axis=1, inplace=True)\n",
    "    \n",
    "    if inplace:\n",
    "        X_train_ = X_train\n",
    "        X_test_ = X_test\n",
    "    \n",
    "    return X_train, X_test         "
   ]
  },
  {
   "cell_type": "code",
   "execution_count": 21,
   "metadata": {
    "collapsed": true
   },
   "outputs": [],
   "source": [
    "def dst_l2(X, Z, X_train):\n",
    "    return scipy.spatial.distance.cdist(X, Z)"
   ]
  },
  {
   "cell_type": "code",
   "execution_count": 22,
   "metadata": {
    "collapsed": false
   },
   "outputs": [],
   "source": [
    "X_train_counters_f, X_test_counters_f = categories_to_counters(X_train, X_test, y_train, folding=True)"
   ]
  },
  {
   "cell_type": "code",
   "execution_count": 23,
   "metadata": {
    "collapsed": false
   },
   "outputs": [
    {
     "name": "stdout",
     "output_type": "stream",
     "text": [
      "Distance function: Euclidean distance k = 1 AUC: 0.623693948981\n",
      "Distance function: Euclidean distance k = 2 AUC: 0.674231608897\n",
      "Distance function: Euclidean distance k = 4 AUC: 0.695404192015\n",
      "Distance function: Euclidean distance k = 8 AUC: 0.722817156092\n",
      "Distance function: Euclidean distance k = 16 AUC: 0.750681464804\n",
      "Distance function: Euclidean distance k = 32 AUC: 0.767414912146\n",
      "Distance function: Euclidean distance k = 64 AUC: 0.777627449374\n",
      "Distance function: Euclidean distance k = 128 AUC: 0.782003865947\n",
      "Distance function: Euclidean distance k = 256 AUC: 0.79084808223\n",
      "Distance function: Euclidean distance k = 512 AUC: 0.790494590334\n",
      "Distance function: Euclidean distance k = 1024 AUC: 0.78762253607\n"
     ]
    }
   ],
   "source": [
    "param_grid = {\"k\": [1, 2, 4, 8, 16, 32, 64, 128, 256, 512, 1024], \"dst_func\": [\"Euclidean distance\", dst_l2]}\n",
    "parametr_tuning(X_train_counters_f, y_train, X_test_counters_f, y_test, param_grid=param_grid)"
   ]
  },
  {
   "cell_type": "code",
   "execution_count": 24,
   "metadata": {
    "collapsed": false
   },
   "outputs": [
    {
     "name": "stdout",
     "output_type": "stream",
     "text": [
      "Distance function: Euclidean distance k = 128 AUC: 0.782003865947\n",
      "Distance function: Euclidean distance k = 150 AUC: 0.78105831556\n",
      "Distance function: Euclidean distance k = 180 AUC: 0.781847607074\n",
      "Distance function: Euclidean distance k = 220 AUC: 0.784959755478\n",
      "Distance function: Euclidean distance k = 256 AUC: 0.79084808223\n",
      "Distance function: Euclidean distance k = 300 AUC: 0.79091718118\n",
      "Distance function: Euclidean distance k = 350 AUC: 0.790312183484\n",
      "Distance function: Euclidean distance k = 400 AUC: 0.790285136951\n",
      "Distance function: Euclidean distance k = 450 AUC: 0.791630814286\n",
      "Distance function: Euclidean distance k = 512 AUC: 0.790494590334\n"
     ]
    }
   ],
   "source": [
    "param_grid = {\"k\": [128, 150, 180, 220, 256, 300, 350, 400, 450, 512], \"dst_func\": [\"Euclidean distance\", dst_l2]}\n",
    "parametr_tuning(X_train_counters_f, y_train, X_test_counters_f, y_test, param_grid=param_grid)"
   ]
  },
  {
   "cell_type": "code",
   "execution_count": 25,
   "metadata": {
    "collapsed": true
   },
   "outputs": [],
   "source": [
    "X_train_counters_no_f, X_test_counters_no_f = categories_to_counters(X_train, X_test, y_train, folding=False)"
   ]
  },
  {
   "cell_type": "code",
   "execution_count": 26,
   "metadata": {
    "collapsed": false
   },
   "outputs": [
    {
     "name": "stdout",
     "output_type": "stream",
     "text": [
      "Distance function: Euclidean distance k = 1 AUC: 0.689648581971\n",
      "Distance function: Euclidean distance k = 2 AUC: 0.723752283231\n",
      "Distance function: Euclidean distance k = 4 AUC: 0.750699256211\n",
      "Distance function: Euclidean distance k = 8 AUC: 0.759110098978\n",
      "Distance function: Euclidean distance k = 16 AUC: 0.768595704471\n",
      "Distance function: Euclidean distance k = 32 AUC: 0.778517109583\n",
      "Distance function: Euclidean distance k = 64 AUC: 0.781826940288\n",
      "Distance function: Euclidean distance k = 128 AUC: 0.791570700895\n",
      "Distance function: Euclidean distance k = 256 AUC: 0.795329899412\n",
      "Distance function: Euclidean distance k = 512 AUC: 0.792851861916\n",
      "Distance function: Euclidean distance k = 1024 AUC: 0.788894172398\n"
     ]
    }
   ],
   "source": [
    "param_grid = {\"k\": [1, 2, 4, 8, 16, 32, 64, 128, 256, 512, 1024], \"dst_func\": [\"Euclidean distance\", dst_l2]}\n",
    "parametr_tuning(X_train_counters_no_f, y_train, X_test_counters_no_f, y_test, param_grid=param_grid)"
   ]
  },
  {
   "cell_type": "code",
   "execution_count": 27,
   "metadata": {
    "collapsed": false
   },
   "outputs": [
    {
     "name": "stdout",
     "output_type": "stream",
     "text": [
      "Distance function: Euclidean distance k = 128 AUC: 0.791570700895\n",
      "Distance function: Euclidean distance k = 150 AUC: 0.791874502649\n",
      "Distance function: Euclidean distance k = 180 AUC: 0.793209756736\n",
      "Distance function: Euclidean distance k = 220 AUC: 0.79506967762\n",
      "Distance function: Euclidean distance k = 256 AUC: 0.795329899412\n",
      "Distance function: Euclidean distance k = 300 AUC: 0.794726608972\n",
      "Distance function: Euclidean distance k = 350 AUC: 0.793328006694\n",
      "Distance function: Euclidean distance k = 400 AUC: 0.794334569027\n",
      "Distance function: Euclidean distance k = 450 AUC: 0.795015494698\n",
      "Distance function: Euclidean distance k = 512 AUC: 0.792851861916\n"
     ]
    }
   ],
   "source": [
    "param_grid = {\"k\": [128, 150, 180, 220, 256, 300, 350, 400, 450, 512], \"dst_func\": [\"Euclidean distance\", dst_l2]}\n",
    "parametr_tuning(X_train_counters_no_f, y_train, X_test_counters_no_f, y_test, param_grid=param_grid)"
   ]
  },
  {
   "cell_type": "markdown",
   "metadata": {},
   "source": [
    "1. Счетчики с фолдингом:  максимальный AUC-ROC равен 0.792 при k=450\n",
    "2. Счетчики без фолдинга: максимальный AUC-ROC равен 0.795 при k=256\n",
    "\n",
    "Качество без фолдинга оказалось выше. Скорее всего, потому что счетчики считались по 5-ти фолдам, а это слишком мало для учета всех особенностей датасета, и одновременно с этим переобучение из-за отсутствия фолдов не слишком велико."
   ]
  },
  {
   "cell_type": "markdown",
   "metadata": {},
   "source": [
    "#### 4. Добавьте в исходную выборку парные признаки — то есть для каждой пары $f_i$, $f_j$ исходных категориальных признаков добавьте новый категориальный признак $f_{ij}$, значение которого является конкатенацией значений $f_i$ и $f_j$. Посчитайте счетчики для этой выборки, найдите качество метода $k$ ближайших соседей с наилучшим $k$ (с фолдингом и без)."
   ]
  },
  {
   "cell_type": "code",
   "execution_count": 28,
   "metadata": {
    "collapsed": false
   },
   "outputs": [],
   "source": [
    "def add_pair_features(X_train_, X_test_, inplace=False):\n",
    "    X_train = X_train_.copy(deep=True)\n",
    "    X_test = X_test_.copy(deep=True)\n",
    "    old_features = np.copy(X_train.columns)\n",
    "    \n",
    "    for feature1 in old_features:\n",
    "        for feature2 in old_features:\n",
    "            if feature1 != feature2:\n",
    "                X_train[feature1+\"+\"+feature2] = np.core.defchararray.add(np.core.defchararray.add(X_train[feature1].values.astype(np.str),\n",
    "                                                                                                   \"&\"),\n",
    "                                                                          X_train[feature2].values.astype(np.str))\n",
    "                X_test[feature1+\"+\"+feature2] = np.core.defchararray.add(np.core.defchararray.add(X_test[feature1].values.astype(np.str),\n",
    "                                                                                                   \"&\"),\n",
    "                                                                         X_test[feature2].values.astype(np.str))\n",
    "    if inplace:\n",
    "        X_train_ = X_train.copy(deep=True)\n",
    "        X_test_ = X_test.copy(deep=True)\n",
    "    \n",
    "    return X_train, X_test"
   ]
  },
  {
   "cell_type": "code",
   "execution_count": 29,
   "metadata": {
    "collapsed": false
   },
   "outputs": [],
   "source": [
    "X_train_pair, X_test_pair = add_pair_features(X_train, X_test)"
   ]
  },
  {
   "cell_type": "code",
   "execution_count": 30,
   "metadata": {
    "collapsed": true
   },
   "outputs": [],
   "source": [
    "label_encode_features(X_train_pair, X_test_pair)"
   ]
  },
  {
   "cell_type": "code",
   "execution_count": 31,
   "metadata": {
    "collapsed": false,
    "scrolled": true
   },
   "outputs": [],
   "source": [
    "X_train_pair_counters_f, X_test_pair_counters_f = categories_to_counters(X_train_pair, X_test_pair, y_train, folding=True)"
   ]
  },
  {
   "cell_type": "code",
   "execution_count": 32,
   "metadata": {
    "collapsed": false
   },
   "outputs": [
    {
     "name": "stdout",
     "output_type": "stream",
     "text": [
      "Distance function: Euclidean distance k = 1 AUC: 0.66600380197\n",
      "Distance function: Euclidean distance k = 2 AUC: 0.709618358144\n",
      "Distance function: Euclidean distance k = 4 AUC: 0.734418770905\n",
      "Distance function: Euclidean distance k = 8 AUC: 0.765314717411\n",
      "Distance function: Euclidean distance k = 16 AUC: 0.784579217049\n",
      "Distance function: Euclidean distance k = 32 AUC: 0.791787971715\n",
      "Distance function: Euclidean distance k = 64 AUC: 0.806871939968\n",
      "Distance function: Euclidean distance k = 128 AUC: 0.822417406538\n",
      "Distance function: Euclidean distance k = 256 AUC: 0.825232851779\n",
      "Distance function: Euclidean distance k = 512 AUC: 0.82877082583\n",
      "Distance function: Euclidean distance k = 1024 AUC: 0.830499647407\n"
     ]
    }
   ],
   "source": [
    "param_grid = {\"k\": [1, 2, 4, 8, 16, 32, 64, 128, 256, 512, 1024], \"dst_func\": [\"Euclidean distance\", dst_l2]}\n",
    "parametr_tuning(X_train_pair_counters_f, y_train, X_test_pair_counters_f, y_test, param_grid=param_grid)"
   ]
  },
  {
   "cell_type": "code",
   "execution_count": 33,
   "metadata": {
    "collapsed": true
   },
   "outputs": [],
   "source": [
    "X_train_pair_counters_no_f, X_test_pair_counters_no_f = categories_to_counters(X_train_pair, X_test_pair, y_train, folding=False)"
   ]
  },
  {
   "cell_type": "code",
   "execution_count": 34,
   "metadata": {
    "collapsed": false
   },
   "outputs": [
    {
     "name": "stdout",
     "output_type": "stream",
     "text": [
      "Distance function: Euclidean distance k = 1 AUC: 0.708222541389\n",
      "Distance function: Euclidean distance k = 2 AUC: 0.748413060402\n",
      "Distance function: Euclidean distance k = 4 AUC: 0.77401920825\n",
      "Distance function: Euclidean distance k = 8 AUC: 0.785171994384\n",
      "Distance function: Euclidean distance k = 16 AUC: 0.793293412291\n",
      "Distance function: Euclidean distance k = 32 AUC: 0.803836078961\n",
      "Distance function: Euclidean distance k = 64 AUC: 0.807065938189\n",
      "Distance function: Euclidean distance k = 128 AUC: 0.81839816594\n",
      "Distance function: Euclidean distance k = 256 AUC: 0.824934171794\n",
      "Distance function: Euclidean distance k = 512 AUC: 0.828263680873\n",
      "Distance function: Euclidean distance k = 1024 AUC: 0.827331608825\n"
     ]
    }
   ],
   "source": [
    "param_grid = {\"k\": [1, 2, 4, 8, 16, 32, 64, 128, 256, 512, 1024], \"dst_func\": [\"Euclidean distance\", dst_l2]}\n",
    "parametr_tuning(X_train_pair_counters_no_f, y_train, X_test_pair_counters_no_f, y_test, param_grid=param_grid)"
   ]
  },
  {
   "cell_type": "markdown",
   "metadata": {},
   "source": [
    "1. Счетчики с фолдингом:  максимальный AUC-ROC равен 0.831 при k=1024\n",
    "2. Счетчики без фолдинга: максимальный AUC-ROC равен 0.828 при k=512"
   ]
  },
  {
   "cell_type": "markdown",
   "metadata": {},
   "source": [
    "## Часть 2: Решающие деревья и леса"
   ]
  },
  {
   "cell_type": "markdown",
   "metadata": {},
   "source": [
    "#### 1. Возьмите из предыдущей части выборку с парными признаками, преобразованную с помощью счетчиков без фолдинга. Настройте решающее дерево, подобрав оптимальные значения параметров `max_depth` и `min_samples_leaf`. Какой наилучший AUC-ROC на контроле удалось получить?"
   ]
  },
  {
   "cell_type": "code",
   "execution_count": 36,
   "metadata": {
    "collapsed": true
   },
   "outputs": [],
   "source": [
    "def parametr_tuning_tree(X_train, y_train, X_test, y_test, param_grid):\n",
    "    for max_depth in param_grid[\"max_depth\"]:\n",
    "        for min_samples_leaf in param_grid[\"min_samples_leaf\"]:\n",
    "            model = DecisionTreeClassifier(max_depth=max_depth, min_samples_leaf=min_samples_leaf, random_state=1234)\n",
    "            model.fit(X_train.values, y_train.values)\n",
    "            y_pred = model.predict(X_test.values)\n",
    "            auc = metrics.roc_auc_score(y_test.values, y_pred)\n",
    "            print \"Max depth:\", max_depth, \"min_samples_leaf:\", min_samples_leaf, \"AUC:\", auc"
   ]
  },
  {
   "cell_type": "code",
   "execution_count": 37,
   "metadata": {
    "collapsed": false,
    "scrolled": true
   },
   "outputs": [],
   "source": [
    "from sklearn.tree import DecisionTreeClassifier"
   ]
  },
  {
   "cell_type": "code",
   "execution_count": 38,
   "metadata": {
    "collapsed": false
   },
   "outputs": [
    {
     "name": "stdout",
     "output_type": "stream",
     "text": [
      "Max depth: 2 min_samples_leaf: 1 AUC: 0.537653356538\n",
      "Max depth: 2 min_samples_leaf: 2 AUC: 0.537653356538\n",
      "Max depth: 2 min_samples_leaf: 4 AUC: 0.537653356538\n",
      "Max depth: 2 min_samples_leaf: 8 AUC: 0.537653356538\n",
      "Max depth: 2 min_samples_leaf: 16 AUC: 0.578081633445\n",
      "Max depth: 2 min_samples_leaf: 32 AUC: 0.578081633445\n",
      "Max depth: 2 min_samples_leaf: 64 AUC: 0.578081633445\n",
      "Max depth: 4 min_samples_leaf: 1 AUC: 0.598060844456\n",
      "Max depth: 4 min_samples_leaf: 2 AUC: 0.598060844456\n",
      "Max depth: 4 min_samples_leaf: 4 AUC: 0.610987379962\n",
      "Max depth: 4 min_samples_leaf: 8 AUC: 0.593071163472\n",
      "Max depth: 4 min_samples_leaf: 16 AUC: 0.581824837667\n",
      "Max depth: 4 min_samples_leaf: 32 AUC: 0.58193320351\n",
      "Max depth: 4 min_samples_leaf: 64 AUC: 0.578081633445\n",
      "Max depth: 6 min_samples_leaf: 1 AUC: 0.576236988012\n",
      "Max depth: 6 min_samples_leaf: 2 AUC: 0.529442352606\n",
      "Max depth: 6 min_samples_leaf: 4 AUC: 0.556684770771\n",
      "Max depth: 6 min_samples_leaf: 8 AUC: 0.582967800788\n",
      "Max depth: 6 min_samples_leaf: 16 AUC: 0.581824837667\n",
      "Max depth: 6 min_samples_leaf: 32 AUC: 0.58193320351\n",
      "Max depth: 6 min_samples_leaf: 64 AUC: 0.578081633445\n",
      "Max depth: 8 min_samples_leaf: 1 AUC: 0.582040491086\n",
      "Max depth: 8 min_samples_leaf: 2 AUC: 0.556042123582\n",
      "Max depth: 8 min_samples_leaf: 4 AUC: 0.559782632136\n",
      "Max depth: 8 min_samples_leaf: 8 AUC: 0.582967800788\n",
      "Max depth: 8 min_samples_leaf: 16 AUC: 0.581824837667\n",
      "Max depth: 8 min_samples_leaf: 32 AUC: 0.58193320351\n",
      "Max depth: 8 min_samples_leaf: 64 AUC: 0.578081633445\n",
      "Max depth: 10 min_samples_leaf: 1 AUC: 0.583587534801\n",
      "Max depth: 10 min_samples_leaf: 2 AUC: 0.556042123582\n",
      "Max depth: 10 min_samples_leaf: 4 AUC: 0.559782632136\n",
      "Max depth: 10 min_samples_leaf: 8 AUC: 0.582967800788\n",
      "Max depth: 10 min_samples_leaf: 16 AUC: 0.581824837667\n",
      "Max depth: 10 min_samples_leaf: 32 AUC: 0.58193320351\n",
      "Max depth: 10 min_samples_leaf: 64 AUC: 0.578081633445\n"
     ]
    }
   ],
   "source": [
    "param_grid = {\"max_depth\" : np.arange(2, 12, 2), \"min_samples_leaf\": [1, 2, 4, 8, 16, 32, 64]}\n",
    "parametr_tuning_tree(X_train_pair_counters_no_f, y_train, X_test_pair_counters_no_f, y_test, param_grid)"
   ]
  },
  {
   "cell_type": "markdown",
   "metadata": {},
   "source": [
    "Максимальный AUC-ROC равен 0.611 при max_depth = 4, min_samples_leaf = 4"
   ]
  },
  {
   "cell_type": "markdown",
   "metadata": {},
   "source": [
    "#### 2. Настройте случайный лес, подобрав оптимальное число деревьев `n_estimators`. Какое качество на тестовой выборке он дает?"
   ]
  },
  {
   "cell_type": "code",
   "execution_count": 39,
   "metadata": {
    "collapsed": true
   },
   "outputs": [],
   "source": [
    "from sklearn.ensemble import RandomForestClassifier"
   ]
  },
  {
   "cell_type": "code",
   "execution_count": 40,
   "metadata": {
    "collapsed": false
   },
   "outputs": [],
   "source": [
    "def parametr_tuning_forest(X_train, y_train, X_test, y_test, param_grid):\n",
    "    for n_estimators in param_grid[\"n_estimators\"]:\n",
    "        model = RandomForestClassifier(n_estimators=n_estimators, random_state=1234)\n",
    "        model.fit(X_train.values, y_train.values)\n",
    "        y_pred = model.predict(X_test.values)\n",
    "        auc = metrics.roc_auc_score(y_test.values, y_pred)\n",
    "        print \"# trees:\", n_estimators, \"AUC:\", auc"
   ]
  },
  {
   "cell_type": "code",
   "execution_count": 41,
   "metadata": {
    "collapsed": false
   },
   "outputs": [
    {
     "name": "stdout",
     "output_type": "stream",
     "text": [
      "# trees: 2 AUC: 0.577010644653\n",
      "# trees: 10 AUC: 0.531730974516\n",
      "# trees: 25 AUC: 0.533519010927\n",
      "# trees: 100 AUC: 0.546278145467\n",
      "# trees: 200 AUC: 0.547990703181\n",
      "# trees: 500 AUC: 0.545828238521\n",
      "# trees: 1000 AUC: 0.546532616501\n"
     ]
    }
   ],
   "source": [
    "param_grid = {\"n_estimators\" : [2, 10, 25, 100, 200, 500, 1000]}\n",
    "parametr_tuning_forest(X_train_pair_counters_no_f, y_train, X_test_pair_counters_no_f, y_test, param_grid)"
   ]
  },
  {
   "cell_type": "markdown",
   "metadata": {},
   "source": [
    "Максимальный AUC-ROC равен 0.577 при n_estimators = 2"
   ]
  },
  {
   "cell_type": "markdown",
   "metadata": {},
   "source": [
    "#### 3. Возьмите выборку с парными признаками, для которой счетчики посчитаны с фолдингом. Обучите на ней случайный лес, подобрав число деревьев. Какое качество на тестовой выборке он дает? Чем вы можете объяснить изменение результата по сравнению с предыдущим пунктом?"
   ]
  },
  {
   "cell_type": "code",
   "execution_count": 42,
   "metadata": {
    "collapsed": false
   },
   "outputs": [
    {
     "name": "stdout",
     "output_type": "stream",
     "text": [
      "# trees: 2 AUC: 0.685976543378\n",
      "# trees: 10 AUC: 0.667872169279\n",
      "# trees: 25 AUC: 0.64318524413\n",
      "# trees: 100 AUC: 0.649352392783\n",
      "# trees: 200 AUC: 0.652723325289\n",
      "# trees: 500 AUC: 0.650019031414\n",
      "# trees: 1000 AUC: 0.651335865104\n"
     ]
    }
   ],
   "source": [
    "param_grid = {\"n_estimators\" : [2, 10, 25, 100, 200, 500, 1000]}\n",
    "parametr_tuning_forest(X_train_pair_counters_f, y_train, X_test_pair_counters_f, y_test, param_grid)"
   ]
  },
  {
   "cell_type": "markdown",
   "metadata": {
    "collapsed": true
   },
   "source": [
    "Максимальный AUC-ROC равен 0.686 при n_estimators = 2\n",
    "Результат деревьев на данных с фолдингом намного лучше, чем без фолдинга. Логично, что леса на счетчиках без фолдинга сильно переобучаются, так как по признакам \"clicks\" будет хорошее разделение на обучении из-за внесенной информации из целевой переменной."
   ]
  },
  {
   "cell_type": "code",
   "execution_count": null,
   "metadata": {
    "collapsed": true
   },
   "outputs": [],
   "source": []
  }
 ],
 "metadata": {
  "kernelspec": {
   "display_name": "Python 2",
   "language": "python",
   "name": "python2"
  },
  "language_info": {
   "codemirror_mode": {
    "name": "ipython",
    "version": 2
   },
   "file_extension": ".py",
   "mimetype": "text/x-python",
   "name": "python",
   "nbconvert_exporter": "python",
   "pygments_lexer": "ipython2",
   "version": "2.7.10"
  }
 },
 "nbformat": 4,
 "nbformat_minor": 0
}
