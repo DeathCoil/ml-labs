{
 "cells": [
  {
   "cell_type": "markdown",
   "metadata": {},
   "source": [
    "# Лабораторная работа 2. Метод ближайших соседей и решающие деревья."
   ]
  },
  {
   "cell_type": "markdown",
   "metadata": {},
   "source": [
    "ФИО: Николаев Владимир Владимирович\n",
    "\n",
    "Группа: 317"
   ]
  },
  {
   "cell_type": "code",
   "execution_count": 1,
   "metadata": {
    "collapsed": false
   },
   "outputs": [],
   "source": [
    "import numpy as np\n",
    "import pandas as pd\n",
    "import scipy\n",
    "from sklearn import metrics\n",
    "import sklearn.preprocessing"
   ]
  },
  {
   "cell_type": "markdown",
   "metadata": {},
   "source": [
    "Все эксперименты в этой лабораторной работе предлагается проводить на данных соревнования Amazon Employee Access Challenge: https://www.kaggle.com/c/amazon-employee-access-challenge\n",
    "\n",
    "В данной задаче предлагается предсказать, будет ли одобрен запрос сотрудника на получение доступа к тому или иному ресурсу. Все признаки являются категориальными.\n",
    "\n",
    "Для удобства данные можно загрузить по ссылке: https://www.dropbox.com/s/q6fbs1vvhd5kvek/amazon.csv\n",
    "\n",
    "Сразу прочитаем данные и создадим разбиение на обучение и контроль:"
   ]
  },
  {
   "cell_type": "code",
   "execution_count": 2,
   "metadata": {
    "collapsed": false
   },
   "outputs": [
    {
     "data": {
      "text/html": [
       "<div>\n",
       "<table border=\"1\" class=\"dataframe\">\n",
       "  <thead>\n",
       "    <tr style=\"text-align: right;\">\n",
       "      <th></th>\n",
       "      <th>ACTION</th>\n",
       "      <th>RESOURCE</th>\n",
       "      <th>MGR_ID</th>\n",
       "      <th>ROLE_ROLLUP_1</th>\n",
       "      <th>ROLE_ROLLUP_2</th>\n",
       "      <th>ROLE_DEPTNAME</th>\n",
       "      <th>ROLE_TITLE</th>\n",
       "      <th>ROLE_FAMILY_DESC</th>\n",
       "      <th>ROLE_FAMILY</th>\n",
       "      <th>ROLE_CODE</th>\n",
       "    </tr>\n",
       "  </thead>\n",
       "  <tbody>\n",
       "    <tr>\n",
       "      <th>0</th>\n",
       "      <td>1</td>\n",
       "      <td>39353</td>\n",
       "      <td>85475</td>\n",
       "      <td>117961</td>\n",
       "      <td>118300</td>\n",
       "      <td>123472</td>\n",
       "      <td>117905</td>\n",
       "      <td>117906</td>\n",
       "      <td>290919</td>\n",
       "      <td>117908</td>\n",
       "    </tr>\n",
       "    <tr>\n",
       "      <th>1</th>\n",
       "      <td>1</td>\n",
       "      <td>17183</td>\n",
       "      <td>1540</td>\n",
       "      <td>117961</td>\n",
       "      <td>118343</td>\n",
       "      <td>123125</td>\n",
       "      <td>118536</td>\n",
       "      <td>118536</td>\n",
       "      <td>308574</td>\n",
       "      <td>118539</td>\n",
       "    </tr>\n",
       "    <tr>\n",
       "      <th>2</th>\n",
       "      <td>1</td>\n",
       "      <td>36724</td>\n",
       "      <td>14457</td>\n",
       "      <td>118219</td>\n",
       "      <td>118220</td>\n",
       "      <td>117884</td>\n",
       "      <td>117879</td>\n",
       "      <td>267952</td>\n",
       "      <td>19721</td>\n",
       "      <td>117880</td>\n",
       "    </tr>\n",
       "    <tr>\n",
       "      <th>3</th>\n",
       "      <td>1</td>\n",
       "      <td>36135</td>\n",
       "      <td>5396</td>\n",
       "      <td>117961</td>\n",
       "      <td>118343</td>\n",
       "      <td>119993</td>\n",
       "      <td>118321</td>\n",
       "      <td>240983</td>\n",
       "      <td>290919</td>\n",
       "      <td>118322</td>\n",
       "    </tr>\n",
       "    <tr>\n",
       "      <th>4</th>\n",
       "      <td>1</td>\n",
       "      <td>42680</td>\n",
       "      <td>5905</td>\n",
       "      <td>117929</td>\n",
       "      <td>117930</td>\n",
       "      <td>119569</td>\n",
       "      <td>119323</td>\n",
       "      <td>123932</td>\n",
       "      <td>19793</td>\n",
       "      <td>119325</td>\n",
       "    </tr>\n",
       "  </tbody>\n",
       "</table>\n",
       "</div>"
      ],
      "text/plain": [
       "   ACTION  RESOURCE  MGR_ID  ROLE_ROLLUP_1  ROLE_ROLLUP_2  ROLE_DEPTNAME  \\\n",
       "0       1     39353   85475         117961         118300         123472   \n",
       "1       1     17183    1540         117961         118343         123125   \n",
       "2       1     36724   14457         118219         118220         117884   \n",
       "3       1     36135    5396         117961         118343         119993   \n",
       "4       1     42680    5905         117929         117930         119569   \n",
       "\n",
       "   ROLE_TITLE  ROLE_FAMILY_DESC  ROLE_FAMILY  ROLE_CODE  \n",
       "0      117905            117906       290919     117908  \n",
       "1      118536            118536       308574     118539  \n",
       "2      117879            267952        19721     117880  \n",
       "3      118321            240983       290919     118322  \n",
       "4      119323            123932        19793     119325  "
      ]
     },
     "execution_count": 2,
     "metadata": {},
     "output_type": "execute_result"
    }
   ],
   "source": [
    "data = pd.read_csv('amazon.csv')\n",
    "data.head()"
   ]
  },
  {
   "cell_type": "code",
   "execution_count": 3,
   "metadata": {
    "collapsed": false
   },
   "outputs": [
    {
     "data": {
      "text/plain": [
       "(32769, 10)"
      ]
     },
     "execution_count": 3,
     "metadata": {},
     "output_type": "execute_result"
    }
   ],
   "source": [
    "data.shape"
   ]
  },
  {
   "cell_type": "code",
   "execution_count": 4,
   "metadata": {
    "collapsed": false
   },
   "outputs": [
    {
     "data": {
      "text/plain": [
       "0.94210992096188473"
      ]
     },
     "execution_count": 4,
     "metadata": {},
     "output_type": "execute_result"
    }
   ],
   "source": [
    "# доля положительных примеров\n",
    "data.ACTION.mean()"
   ]
  },
  {
   "cell_type": "code",
   "execution_count": 5,
   "metadata": {
    "collapsed": false
   },
   "outputs": [
    {
     "name": "stdout",
     "output_type": "stream",
     "text": [
      "ACTION 2\n",
      "RESOURCE 7518\n",
      "MGR_ID 4243\n",
      "ROLE_ROLLUP_1 128\n",
      "ROLE_ROLLUP_2 177\n",
      "ROLE_DEPTNAME 449\n",
      "ROLE_TITLE 343\n",
      "ROLE_FAMILY_DESC 2358\n",
      "ROLE_FAMILY 67\n",
      "ROLE_CODE 343\n"
     ]
    }
   ],
   "source": [
    "# число значений у признаков\n",
    "for col_name in data.columns:\n",
    "    print col_name, len(data[col_name].unique())"
   ]
  },
  {
   "cell_type": "code",
   "execution_count": 6,
   "metadata": {
    "collapsed": true
   },
   "outputs": [],
   "source": [
    "from sklearn.cross_validation import train_test_split\n",
    "X_train, X_test, y_train, y_test = train_test_split(data.iloc[:, 1:], data.iloc[:, 0],\n",
    "                                                    test_size=0.3, random_state=241)"
   ]
  },
  {
   "cell_type": "code",
   "execution_count": 7,
   "metadata": {
    "collapsed": false
   },
   "outputs": [],
   "source": [
    "y_train, y_test = y_train.values, y_test.values"
   ]
  },
  {
   "cell_type": "markdown",
   "metadata": {},
   "source": [
    "## Часть 1: kNN и категориальные признаки"
   ]
  },
  {
   "cell_type": "markdown",
   "metadata": {},
   "source": [
    "#### 1. Реализуйте три функции расстояния на категориальных признаках, которые обсуждались на втором семинаре. Реализуйте самостоятельно метод k ближайших соседей, который будет уметь работать с этими функциями расстояния. Подсчитайте для каждой из них качество на тестовой выборке `X_test` при числе соседей $k = 10$. Метрика качества — AUC-ROC.\n",
    "\n",
    "Какая функция расстояния оказалась лучшей?"
   ]
  },
  {
   "cell_type": "code",
   "execution_count": 8,
   "metadata": {
    "collapsed": true
   },
   "outputs": [],
   "source": [
    "def label_encode_features(X_train, X_test):\n",
    "    for column_name in X_train.columns:\n",
    "        le = sklearn.preprocessing.LabelEncoder()\n",
    "        le.fit(pd.concat((X_train, X_test))[column_name])\n",
    "        X_train[column_name] = le.transform(X_train[column_name])\n",
    "        X_test[column_name] = le.transform(X_test[column_name])    "
   ]
  },
  {
   "cell_type": "code",
   "execution_count": 9,
   "metadata": {
    "collapsed": false
   },
   "outputs": [],
   "source": [
    "def dst1(X, Z, X_train):\n",
    "    dst = np.empty((X.shape[0], Z.shape[0]))\n",
    "    for i in xrange(X.shape[0]):\n",
    "        dst[i, :] = np.sum(X[i, :] != Z, axis=1)\n",
    "    \n",
    "    return dst\n",
    "\n",
    "\n",
    "def dst2(X, Z, X_train):\n",
    "    dst = np.zeros((np.size(X, axis=0), np.size(Z, axis=0)))\n",
    "    l = 1.*X_train.shape[0]\n",
    "    \n",
    "    pX = np.empty(X_train.shape[1], dtype=np.ndarray)\n",
    "    pX_counts = np.empty(X_train.shape[1], dtype=np.ndarray)\n",
    "    pX_sq = np.empty(X_train.shape[1], dtype=np.ndarray)\n",
    "    pX_sq_counts = np.empty(X_train.shape[1], dtype=np.ndarray)\n",
    "    \n",
    "    for j in xrange(X_train.shape[1]):\n",
    "        pX[j] = np.array(np.unique(X_train[:, j], return_counts=True)[0], dtype=np.int32)\n",
    "        pX_counts[j] = np.array(np.unique(X_train[:, j], return_counts=True)[1], dtype=np.int32)\n",
    "        pX_sq[j] = np.array(np.unique(X_train[:, j], return_counts=True)[0], dtype=np.float32)\n",
    "        pX_sq_counts[j] = np.array(np.unique(X_train[:, j], return_counts=True)[1], dtype=np.float32)\n",
    "        pX[j][1] = pX[j][1].astype(np.float32) / l\n",
    "        pX_sq_counts[j] = pX_sq_counts[j]*(pX_sq_counts[j]-1)/l/(l-1)\n",
    "    \n",
    "    \n",
    "    for i in xrange(X.shape[0]):\n",
    "        for j in xrange(X.shape[1]):\n",
    "            w = pX[j] == X[i, j]\n",
    "            if np.sum(w) == 1:\n",
    "                dst[i, :] += (Z[:, j] == X[i, j]).T*np.sum(pX_sq_counts[j][pX_counts[j] < pX_counts[j][w]])\n",
    "        dst[i, :] += np.sum(X[i, :] != Z, axis=1)\n",
    "    return dst\n",
    "        \n",
    "\n",
    "def dst3(X, Z, X_train):\n",
    "    dst = np.empty((np.size(X, axis=0), np.size(Z, axis=0)))\n",
    "    \n",
    "    f = []\n",
    "    \n",
    "    for i in xrange(X_train.shape[1]):\n",
    "        f.append(1.0*np.bincount(X_train[:, i]))\n",
    "    for i in xrange(X_train.shape[1]):\n",
    "        f[i].resize(max(np.max(X[:, i]), np.max(Z[:, i])) + 1)\n",
    "    \n",
    "    log_fX = np.empty_like(X, dtype=np.float32)\n",
    "    log_fZ = np.empty_like(Z, dtype=np.float32)\n",
    "    \n",
    "    for i in xrange(X.shape[1]):\n",
    "        log_fX[:, i] = np.log(f[i][X[:, i]] + 1)\n",
    "    for i in xrange(Z.shape[1]):\n",
    "        log_fZ[:, i] = np.log(f[i][Z[:, i]] + 1)\n",
    "    \n",
    "    for i in xrange(X.shape[0]):\n",
    "        dst[i, :] = np.sum((X[i, :] != Z)*log_fX[i, :]*log_fZ, axis=1)\n",
    "    \n",
    "    return dst"
   ]
  },
  {
   "cell_type": "code",
   "execution_count": 10,
   "metadata": {
    "collapsed": true
   },
   "outputs": [],
   "source": [
    "class Knn:\n",
    "    def fit(self, X, y, k=1, dst_func=dst1):\n",
    "        self.X = np.copy(X)\n",
    "        self.y = np.copy(y)\n",
    "        self.k = k\n",
    "        self.dst_func = dst_func\n",
    "        \n",
    "        self.l = np.size(X, axis=0)\n",
    "        \n",
    "    def predict(self, X_test):\n",
    "        l_test = X_test.shape[0]\n",
    "        dst = self.dst_func(X_test, self.X, self.X)\n",
    "        y_pred = np.empty(l_test)   \n",
    "        for i in range(l_test):\n",
    "            y_pred[i] = np.mean(self.y[dst[i, :].argsort()][:self.k])\n",
    "        return y_pred"
   ]
  },
  {
   "cell_type": "code",
   "execution_count": 11,
   "metadata": {
    "collapsed": false
   },
   "outputs": [],
   "source": [
    "label_encode_features(X_train, X_test)"
   ]
  },
  {
   "cell_type": "code",
   "execution_count": 12,
   "metadata": {
    "collapsed": false
   },
   "outputs": [
    {
     "name": "stdout",
     "output_type": "stream",
     "text": [
      "Distance function: 1 k = 10 AUC: 0.83088009598\n",
      "Distance function: 2 k = 10 AUC: 0.836556363537\n",
      "Distance function: 3 k = 10 AUC: 0.82094907632\n"
     ]
    }
   ],
   "source": [
    "dst_funcs = [dst1, dst2, dst3]\n",
    "for n, dst_func in enumerate(dst_funcs):\n",
    "    model = Knn()\n",
    "    model.fit(X_train.values, y_train, k=10, dst_func=dst_func)\n",
    "    y_pred = model.predict(X_test.values)\n",
    "    auc = metrics.roc_auc_score(y_test, y_pred)\n",
    "    print \"Distance function:\", n+1,\"k = 10 AUC:\", auc\n",
    "    "
   ]
  },
  {
   "cell_type": "markdown",
   "metadata": {},
   "source": [
    "Лучшей оказалась вторая функция расстояния (сглаженный индикатор совпадения)."
   ]
  },
  {
   "cell_type": "markdown",
   "metadata": {},
   "source": [
    "#### 2 (бонус). Подберите лучшее (на тестовой выборке) число соседей $k$ для каждой из функций расстояния. Какое наилучшее качество удалось достичь?"
   ]
  },
  {
   "cell_type": "code",
   "execution_count": 13,
   "metadata": {
    "collapsed": true
   },
   "outputs": [],
   "source": [
    "def parametr_tuning(X_train, y_train, X_test, y_test, param_grid):\n",
    "    model = Knn()\n",
    "    for k in param_grid[\"k\"]:\n",
    "        model.fit(X_train.values, y_train, k=k, dst_func=param_grid[\"dst_func\"][1])\n",
    "        y_pred = model.predict(X_test.values)\n",
    "        auc = metrics.roc_auc_score(y_test, y_pred)\n",
    "        print \"Distance function:\", param_grid[\"dst_func\"][0],\"k =\", k ,\"AUC:\", auc"
   ]
  },
  {
   "cell_type": "code",
   "execution_count": 14,
   "metadata": {
    "collapsed": false
   },
   "outputs": [
    {
     "name": "stdout",
     "output_type": "stream",
     "text": [
      "Distance function: dst1 k = 1 AUC: 0.709392461188\n",
      "Distance function: dst1 k = 2 AUC: 0.777446570068\n",
      "Distance function: dst1 k = 4 AUC: 0.814440745988\n",
      "Distance function: dst1 k = 8 AUC: 0.830774695372\n",
      "Distance function: dst1 k = 16 AUC: 0.828001122835\n",
      "Distance function: dst1 k = 32 AUC: 0.805931691061\n",
      "Distance function: dst1 k = 64 AUC: 0.778917146675\n"
     ]
    }
   ],
   "source": [
    "parametr_tuning(X_train, y_train, X_test, y_test, {\"k\": [1, 2, 4, 8, 16, 32, 64], \"dst_func\": [\"dst1\", dst1]})"
   ]
  },
  {
   "cell_type": "code",
   "execution_count": 15,
   "metadata": {
    "collapsed": false
   },
   "outputs": [
    {
     "name": "stdout",
     "output_type": "stream",
     "text": [
      "Distance function: dst1 k = 4 AUC: 0.814440745988\n",
      "Distance function: dst1 k = 5 AUC: 0.822305895749\n",
      "Distance function: dst1 k = 6 AUC: 0.82708243927\n",
      "Distance function: dst1 k = 7 AUC: 0.828995914087\n",
      "Distance function: dst1 k = 8 AUC: 0.830774695372\n",
      "Distance function: dst1 k = 9 AUC: 0.829924122344\n",
      "Distance function: dst1 k = 10 AUC: 0.83088009598\n",
      "Distance function: dst1 k = 11 AUC: 0.831201958708\n",
      "Distance function: dst1 k = 12 AUC: 0.829705773258\n",
      "Distance function: dst1 k = 13 AUC: 0.83102602146\n",
      "Distance function: dst1 k = 14 AUC: 0.830949015219\n",
      "Distance function: dst1 k = 15 AUC: 0.828103648065\n",
      "Distance function: dst1 k = 16 AUC: 0.828001122835\n",
      "Distance function: dst1 k = 17 AUC: 0.824370327959\n",
      "Distance function: dst1 k = 18 AUC: 0.825269423005\n",
      "Distance function: dst1 k = 19 AUC: 0.824044781151\n"
     ]
    }
   ],
   "source": [
    "parametr_tuning(X_train, y_train, X_test, y_test, {\"k\": np.arange(4, 20), \"dst_func\": [\"dst1\", dst1]})"
   ]
  },
  {
   "cell_type": "code",
   "execution_count": 16,
   "metadata": {
    "collapsed": false
   },
   "outputs": [
    {
     "name": "stdout",
     "output_type": "stream",
     "text": [
      "Distance function: dst2 k = 1 AUC: 0.706829420302\n",
      "Distance function: dst2 k = 2 AUC: 0.771666699015\n",
      "Distance function: dst2 k = 4 AUC: 0.819613462812\n",
      "Distance function: dst2 k = 8 AUC: 0.839621607322\n",
      "Distance function: dst2 k = 16 AUC: 0.824788426025\n",
      "Distance function: dst2 k = 32 AUC: 0.808739318866\n",
      "Distance function: dst2 k = 64 AUC: 0.778007089247\n"
     ]
    }
   ],
   "source": [
    "parametr_tuning(X_train, y_train, X_test, y_test, {\"k\": [1, 2, 4, 8, 16, 32, 64], \"dst_func\": [\"dst2\", dst2]})"
   ]
  },
  {
   "cell_type": "code",
   "execution_count": 17,
   "metadata": {
    "collapsed": false
   },
   "outputs": [
    {
     "name": "stdout",
     "output_type": "stream",
     "text": [
      "Distance function: dst2 k = 4 AUC: 0.819613462812\n",
      "Distance function: dst2 k = 5 AUC: 0.829940296351\n",
      "Distance function: dst2 k = 6 AUC: 0.836720799269\n",
      "Distance function: dst2 k = 7 AUC: 0.837461119486\n",
      "Distance function: dst2 k = 8 AUC: 0.839621607322\n",
      "Distance function: dst2 k = 9 AUC: 0.838259755981\n",
      "Distance function: dst2 k = 10 AUC: 0.836556363537\n",
      "Distance function: dst2 k = 11 AUC: 0.835299373671\n",
      "Distance function: dst2 k = 12 AUC: 0.832711263075\n",
      "Distance function: dst2 k = 13 AUC: 0.831060166585\n",
      "Distance function: dst2 k = 14 AUC: 0.827797150643\n",
      "Distance function: dst2 k = 15 AUC: 0.825991502536\n",
      "Distance function: dst2 k = 16 AUC: 0.824788426025\n",
      "Distance function: dst2 k = 17 AUC: 0.824283078179\n",
      "Distance function: dst2 k = 18 AUC: 0.82537733957\n",
      "Distance function: dst2 k = 19 AUC: 0.821820046567\n"
     ]
    }
   ],
   "source": [
    "parametr_tuning(X_train, y_train, X_test, y_test, {\"k\": np.arange(4, 20), \"dst_func\": [\"dst2\", dst2]})"
   ]
  },
  {
   "cell_type": "code",
   "execution_count": 18,
   "metadata": {
    "collapsed": false,
    "scrolled": true
   },
   "outputs": [
    {
     "name": "stdout",
     "output_type": "stream",
     "text": [
      "Distance function: dst3 k = 1 AUC: 0.723262210836\n",
      "Distance function: dst3 k = 2 AUC: 0.769017846039\n",
      "Distance function: dst3 k = 4 AUC: 0.805659788041\n",
      "Distance function: dst3 k = 8 AUC: 0.819612025122\n",
      "Distance function: dst3 k = 16 AUC: 0.810324012074\n",
      "Distance function: dst3 k = 32 AUC: 0.787446508967\n",
      "Distance function: dst3 k = 64 AUC: 0.754381268775\n"
     ]
    }
   ],
   "source": [
    "parametr_tuning(X_train, y_train, X_test, y_test, {\"k\": [1, 2, 4, 8, 16, 32, 64], \"dst_func\": [\"dst3\", dst3]})"
   ]
  },
  {
   "cell_type": "code",
   "execution_count": 19,
   "metadata": {
    "collapsed": false,
    "scrolled": true
   },
   "outputs": [
    {
     "name": "stdout",
     "output_type": "stream",
     "text": [
      "Distance function: dst3 k = 4 AUC: 0.805659788041\n",
      "Distance function: dst3 k = 5 AUC: 0.810224811501\n",
      "Distance function: dst3 k = 6 AUC: 0.815499244854\n",
      "Distance function: dst3 k = 7 AUC: 0.81975004331\n",
      "Distance function: dst3 k = 8 AUC: 0.819612025122\n",
      "Distance function: dst3 k = 9 AUC: 0.821106952594\n",
      "Distance function: dst3 k = 10 AUC: 0.82094907632\n",
      "Distance function: dst3 k = 11 AUC: 0.81878580296\n",
      "Distance function: dst3 k = 12 AUC: 0.820109285964\n",
      "Distance function: dst3 k = 13 AUC: 0.818310466882\n",
      "Distance function: dst3 k = 14 AUC: 0.816922197997\n",
      "Distance function: dst3 k = 15 AUC: 0.812440919949\n",
      "Distance function: dst3 k = 16 AUC: 0.810324012074\n",
      "Distance function: dst3 k = 17 AUC: 0.811584236741\n",
      "Distance function: dst3 k = 18 AUC: 0.809703649072\n",
      "Distance function: dst3 k = 19 AUC: 0.808105118103\n"
     ]
    }
   ],
   "source": [
    "parametr_tuning(X_train, y_train, X_test, y_test, {\"k\": np.arange(4, 20), \"dst_func\": [\"dst3\", dst3]})"
   ]
  },
  {
   "cell_type": "markdown",
   "metadata": {},
   "source": [
    "1. Функция расстояния 1: максимальный AUC-ROC равен 0.831 при k=11\n",
    "2. Функция расстояния 2: максимальный AUC-ROC равен 0.840 при k=8\n",
    "3. Функция расстояния 3: максимальный AUC-ROC равен 0.821 при k=9"
   ]
  },
  {
   "cell_type": "markdown",
   "metadata": {},
   "source": [
    "#### 3. Реализуйте счетчики (http://blogs.technet.com/b/machinelearning/archive/2015/02/17/big-learning-made-easy-with-counts.aspx), которые заменят категориальные признаки на вещественные.\n",
    "\n",
    "А именно, каждый категориальный признак нужно заменить на три: \n",
    "1. Число `counts` объектов в обучающей выборке с таким же значением признака.\n",
    "2. Число `clicks` объектов первого класса ($y = 1$) в обучающей выборке с таким же значением признака.\n",
    "3. Сглаженное отношение двух предыдущих величин: (`clicks` + 1) / (`counts` + 2).\n",
    "\n",
    "Поскольку признаки, содержащие информацию о целевой переменной, могут привести к переобучению, может оказаться полезным сделать *фолдинг*: разбить обучающую выборку на $n$ частей, и для $i$-й части считать `counts` и `clicks` по всем остальным частям. Для тестовой выборки используются счетчики, посчитанный по всей обучающей выборке. Реализуйте и такой вариант. Можно использовать $n = 3$.\n",
    "\n",
    "#### Посчитайте на тесте AUC-ROC метода $k$ ближайших соседей с евклидовой метрикой для выборки, где категориальные признаки заменены на счетчики. Сравните по AUC-ROC два варианта формирования выборки — с фолдингом и без. Не забудьте подобрать наилучшее число соседей $k$."
   ]
  },
  {
   "cell_type": "code",
   "execution_count": 20,
   "metadata": {
    "collapsed": true
   },
   "outputs": [],
   "source": [
    "from sklearn.cross_validation import KFold"
   ]
  },
  {
   "cell_type": "code",
   "execution_count": 21,
   "metadata": {
    "collapsed": false
   },
   "outputs": [],
   "source": [
    "def convert_feature(feature, X_train, target, X_test, test_index):\n",
    "    feature_column = X_train[feature]\n",
    "    \n",
    "    if test_index is None:\n",
    "        test_index = np.arange(X_test.shape[0])\n",
    "    \n",
    "    bincount = np.bincount(feature_column.astype(np.int64))\n",
    "    bincount.resize(np.max(X_test[feature])+1)\n",
    "    \n",
    "    bincount_ones = np.bincount(feature_column[target == 1].astype(np.int64))\n",
    "    bincount_ones.resize(np.max(X_test[feature])+1)\n",
    "     \n",
    "    X_test[feature+\"_counts\"].iloc[test_index] = 1.0*bincount[X_test[feature].iloc[test_index].values.astype(np.int64)]/feature_column.shape[0]\n",
    "    X_test[feature+\"_clicks\"].iloc[test_index] = 1.0*bincount_ones[X_test[feature].iloc[test_index].values.astype(np.int64)]/feature_column.shape[0]   \n",
    "        \n",
    "def categories_to_counters(X_train_, X_test_, y_train_, folding=True, inplace=False):  \n",
    "    X_train = X_train_.copy(deep=True)\n",
    "    X_test = X_test_.copy(deep=True)\n",
    "    \n",
    "    N_FOLDS = 5\n",
    "      \n",
    "    old_features = np.copy(X_train.columns)\n",
    "    \n",
    "    for feature in old_features:\n",
    "        np.random.seed(1234)\n",
    "        kf = KFold(X_train.values.shape[0], n_folds=N_FOLDS, random_state=1234)\n",
    "        \n",
    "        X_train[feature+\"_counts\"] = np.empty(X_train.shape[0])\n",
    "        X_train[feature+\"_clicks\"] = np.empty(X_train.shape[0])\n",
    "        X_test[feature+\"_counts\"] = np.empty(X_test.shape[0])\n",
    "        X_test[feature+\"_clicks\"] = np.empty(X_test.shape[0])\n",
    "        \n",
    "        if folding:\n",
    "            for train_index, test_index in kf:\n",
    "                convert_feature(feature, X_train.iloc[train_index], y_train[train_index], X_train, test_index)\n",
    "            convert_feature(feature, X_train, y_train, X_test, test_index=None)\n",
    "        else:\n",
    "            convert_feature(feature, X_train, y_train, X_train, test_index=None)\n",
    "            convert_feature(feature, X_train, y_train, X_test, test_index=None)\n",
    "        \n",
    "        X_train[feature+\"_clicks_by_counts\"] = (X_train[feature+\"_clicks\"]*X_train.shape[0]*1.*(N_FOLDS-1)/N_FOLDS+1)/(X_train[feature+\"_counts\"]*X_train.shape[0]*1.*(N_FOLDS-1)/N_FOLDS+2)\n",
    "        X_test[feature+\"_clicks_by_counts\"] = (X_test[feature+\"_clicks\"]*X_train.shape[0]+1)/(X_test[feature+\"_counts\"]*X_train.shape[0]+2)\n",
    "    \n",
    "    X_train.drop(old_features, axis=1, inplace=True)\n",
    "    X_test.drop(old_features, axis=1, inplace=True)\n",
    "    \n",
    "    if inplace:\n",
    "        X_train_ = X_train\n",
    "        X_test_ = X_test\n",
    "    \n",
    "    return X_train, X_test         "
   ]
  },
  {
   "cell_type": "code",
   "execution_count": 22,
   "metadata": {
    "collapsed": true
   },
   "outputs": [],
   "source": [
    "def dst_l2(X, Z, X_train):\n",
    "    return scipy.spatial.distance.cdist(X, Z)"
   ]
  },
  {
   "cell_type": "code",
   "execution_count": 24,
   "metadata": {
    "collapsed": false
   },
   "outputs": [
    {
     "name": "stderr",
     "output_type": "stream",
     "text": [
      "/home/deathcoil/anaconda3/envs/python2env/lib/python2.7/site-packages/pandas/core/indexing.py:115: SettingWithCopyWarning: \n",
      "A value is trying to be set on a copy of a slice from a DataFrame\n",
      "\n",
      "See the caveats in the documentation: http://pandas.pydata.org/pandas-docs/stable/indexing.html#indexing-view-versus-copy\n",
      "  self._setitem_with_indexer(indexer, value)\n"
     ]
    }
   ],
   "source": [
    "X_train_counters_f, X_test_counters_f = categories_to_counters(X_train, X_test, y_train, folding=True)"
   ]
  },
  {
   "cell_type": "code",
   "execution_count": 25,
   "metadata": {
    "collapsed": false
   },
   "outputs": [
    {
     "name": "stdout",
     "output_type": "stream",
     "text": [
      "Distance function: Euclidean distance k = 1 AUC: 0.657273612432\n",
      "Distance function: Euclidean distance k = 2 AUC: 0.691519914515\n",
      "Distance function: Euclidean distance k = 4 AUC: 0.729622189587\n",
      "Distance function: Euclidean distance k = 8 AUC: 0.755632418028\n",
      "Distance function: Euclidean distance k = 16 AUC: 0.782909879874\n",
      "Distance function: Euclidean distance k = 32 AUC: 0.794314441375\n",
      "Distance function: Euclidean distance k = 64 AUC: 0.798659138925\n",
      "Distance function: Euclidean distance k = 128 AUC: 0.803383476347\n",
      "Distance function: Euclidean distance k = 256 AUC: 0.79848742489\n",
      "Distance function: Euclidean distance k = 512 AUC: 0.792518857094\n",
      "Distance function: Euclidean distance k = 1024 AUC: 0.789330870571\n"
     ]
    }
   ],
   "source": [
    "param_grid = {\"k\": [1, 2, 4, 8, 16, 32, 64, 128, 256, 512, 1024], \"dst_func\": [\"Euclidean distance\", dst_l2]}\n",
    "parametr_tuning(X_train_counters_f, y_train, X_test_counters_f, y_test, param_grid=param_grid)"
   ]
  },
  {
   "cell_type": "code",
   "execution_count": 26,
   "metadata": {
    "collapsed": false
   },
   "outputs": [
    {
     "name": "stdout",
     "output_type": "stream",
     "text": [
      "Distance function: Euclidean distance k = 64 AUC: 0.798659138925\n",
      "Distance function: Euclidean distance k = 75 AUC: 0.800348873319\n",
      "Distance function: Euclidean distance k = 90 AUC: 0.804030796027\n",
      "Distance function: Euclidean distance k = 110 AUC: 0.803424989631\n",
      "Distance function: Euclidean distance k = 128 AUC: 0.803383476347\n",
      "Distance function: Euclidean distance k = 150 AUC: 0.801331803632\n",
      "Distance function: Euclidean distance k = 180 AUC: 0.801818102092\n",
      "Distance function: Euclidean distance k = 220 AUC: 0.799907233088\n",
      "Distance function: Euclidean distance k = 256 AUC: 0.79848742489\n"
     ]
    }
   ],
   "source": [
    "param_grid = {\"k\": [64, 75, 90, 110, 128, 150, 180, 220, 256], \"dst_func\": [\"Euclidean distance\", dst_l2]}\n",
    "parametr_tuning(X_train_counters_f, y_train, X_test_counters_f, y_test, param_grid=param_grid)"
   ]
  },
  {
   "cell_type": "code",
   "execution_count": 27,
   "metadata": {
    "collapsed": true
   },
   "outputs": [],
   "source": [
    "X_train_counters_no_f, X_test_counters_no_f = categories_to_counters(X_train, X_test, y_train, folding=False)"
   ]
  },
  {
   "cell_type": "code",
   "execution_count": 28,
   "metadata": {
    "collapsed": false
   },
   "outputs": [
    {
     "name": "stdout",
     "output_type": "stream",
     "text": [
      "Distance function: Euclidean distance k = 1 AUC: 0.689648581971\n",
      "Distance function: Euclidean distance k = 2 AUC: 0.723752283231\n",
      "Distance function: Euclidean distance k = 4 AUC: 0.750699256211\n",
      "Distance function: Euclidean distance k = 8 AUC: 0.759110098978\n",
      "Distance function: Euclidean distance k = 16 AUC: 0.768595704471\n",
      "Distance function: Euclidean distance k = 32 AUC: 0.778517109583\n",
      "Distance function: Euclidean distance k = 64 AUC: 0.781826940288\n",
      "Distance function: Euclidean distance k = 128 AUC: 0.791570700895\n",
      "Distance function: Euclidean distance k = 256 AUC: 0.795329899412\n",
      "Distance function: Euclidean distance k = 512 AUC: 0.792851861916\n",
      "Distance function: Euclidean distance k = 1024 AUC: 0.788894172398\n"
     ]
    }
   ],
   "source": [
    "param_grid = {\"k\": [1, 2, 4, 8, 16, 32, 64, 128, 256, 512, 1024], \"dst_func\": [\"Euclidean distance\", dst_l2]}\n",
    "parametr_tuning(X_train_counters_no_f, y_train, X_test_counters_no_f, y_test, param_grid=param_grid)"
   ]
  },
  {
   "cell_type": "code",
   "execution_count": 29,
   "metadata": {
    "collapsed": false
   },
   "outputs": [
    {
     "name": "stdout",
     "output_type": "stream",
     "text": [
      "Distance function: Euclidean distance k = 128 AUC: 0.791570700895\n",
      "Distance function: Euclidean distance k = 150 AUC: 0.791874502649\n",
      "Distance function: Euclidean distance k = 180 AUC: 0.793209756736\n",
      "Distance function: Euclidean distance k = 220 AUC: 0.79506967762\n",
      "Distance function: Euclidean distance k = 256 AUC: 0.795329899412\n",
      "Distance function: Euclidean distance k = 300 AUC: 0.794726608972\n",
      "Distance function: Euclidean distance k = 380 AUC: 0.794556152916\n",
      "Distance function: Euclidean distance k = 450 AUC: 0.795015494698\n",
      "Distance function: Euclidean distance k = 512 AUC: 0.792851861916\n"
     ]
    }
   ],
   "source": [
    "param_grid = {\"k\": [128, 150, 180, 220, 256, 300, 380, 450, 512], \"dst_func\": [\"Euclidean distance\", dst_l2]}\n",
    "parametr_tuning(X_train_counters_no_f, y_train, X_test_counters_no_f, y_test, param_grid=param_grid)"
   ]
  },
  {
   "cell_type": "markdown",
   "metadata": {},
   "source": [
    "1. Счетчики с фолдингом:  максимальный AUC-ROC равен 0.804 при k=90\n",
    "2. Счетчики без фолдинга: максимальный AUC-ROC равен 0.795 при k=256\n",
    "\n",
    "Качество с фолдингом оказалось выше. Это логично, так как без фолдинга в обучающую выборку вносится информация о целевой переменной."
   ]
  },
  {
   "cell_type": "markdown",
   "metadata": {},
   "source": [
    "#### 4. Добавьте в исходную выборку парные признаки — то есть для каждой пары $f_i$, $f_j$ исходных категориальных признаков добавьте новый категориальный признак $f_{ij}$, значение которого является конкатенацией значений $f_i$ и $f_j$. Посчитайте счетчики для этой выборки, найдите качество метода $k$ ближайших соседей с наилучшим $k$ (с фолдингом и без)."
   ]
  },
  {
   "cell_type": "code",
   "execution_count": 30,
   "metadata": {
    "collapsed": false
   },
   "outputs": [],
   "source": [
    "def add_pair_features(X_train_, X_test_, inplace=False):\n",
    "    X_train = X_train_.copy(deep=True)\n",
    "    X_test = X_test_.copy(deep=True)\n",
    "    old_features = np.copy(X_train.columns)\n",
    "    \n",
    "    for feature1 in old_features:\n",
    "        for feature2 in old_features:\n",
    "            if feature1 != feature2:\n",
    "                X_train[feature1+\"+\"+feature2] = np.core.defchararray.add(np.core.defchararray.add(X_train[feature1].values.astype(np.str),\n",
    "                                                                                                   \"&\"),\n",
    "                                                                          X_train[feature2].values.astype(np.str))\n",
    "                X_test[feature1+\"+\"+feature2] = np.core.defchararray.add(np.core.defchararray.add(X_test[feature1].values.astype(np.str),\n",
    "                                                                                                   \"&\"),\n",
    "                                                                         X_test[feature2].values.astype(np.str))\n",
    "    if inplace:\n",
    "        X_train_ = X_train.copy(deep=True)\n",
    "        X_test_ = X_test.copy(deep=True)\n",
    "    \n",
    "    return X_train, X_test"
   ]
  },
  {
   "cell_type": "code",
   "execution_count": 31,
   "metadata": {
    "collapsed": false
   },
   "outputs": [],
   "source": [
    "X_train_pair, X_test_pair = add_pair_features(X_train, X_test)"
   ]
  },
  {
   "cell_type": "code",
   "execution_count": 32,
   "metadata": {
    "collapsed": true
   },
   "outputs": [],
   "source": [
    "label_encode_features(X_train_pair, X_test_pair)"
   ]
  },
  {
   "cell_type": "code",
   "execution_count": 33,
   "metadata": {
    "collapsed": false,
    "scrolled": true
   },
   "outputs": [],
   "source": [
    "X_train_pair_counters_f, X_test_pair_counters_f = categories_to_counters(X_train_pair, X_test_pair, y_train, folding=True)"
   ]
  },
  {
   "cell_type": "code",
   "execution_count": 34,
   "metadata": {
    "collapsed": false
   },
   "outputs": [
    {
     "name": "stdout",
     "output_type": "stream",
     "text": [
      "Distance function: Euclidean distance k = 1 AUC: 0.679320131031\n",
      "Distance function: Euclidean distance k = 2 AUC: 0.717363011557\n",
      "Distance function: Euclidean distance k = 4 AUC: 0.758150620974\n",
      "Distance function: Euclidean distance k = 8 AUC: 0.792169768122\n",
      "Distance function: Euclidean distance k = 16 AUC: 0.800264498918\n",
      "Distance function: Euclidean distance k = 32 AUC: 0.826130868559\n",
      "Distance function: Euclidean distance k = 64 AUC: 0.831865092972\n",
      "Distance function: Euclidean distance k = 128 AUC: 0.835478276153\n",
      "Distance function: Euclidean distance k = 256 AUC: 0.837517998075\n",
      "Distance function: Euclidean distance k = 512 AUC: 0.83716468589\n",
      "Distance function: Euclidean distance k = 1024 AUC: 0.836163514892\n"
     ]
    }
   ],
   "source": [
    "param_grid = {\"k\": [1, 2, 4, 8, 16, 32, 64, 128, 256, 512, 1024], \"dst_func\": [\"Euclidean distance\", dst_l2]}\n",
    "parametr_tuning(X_train_pair_counters_f, y_train, X_test_pair_counters_f, y_test, param_grid=param_grid)"
   ]
  },
  {
   "cell_type": "code",
   "execution_count": 35,
   "metadata": {
    "collapsed": true
   },
   "outputs": [],
   "source": [
    "X_train_pair_counters_no_f, X_test_pair_counters_no_f = categories_to_counters(X_train_pair, X_test_pair, y_train, folding=False)"
   ]
  },
  {
   "cell_type": "code",
   "execution_count": 36,
   "metadata": {
    "collapsed": false
   },
   "outputs": [
    {
     "name": "stdout",
     "output_type": "stream",
     "text": [
      "Distance function: Euclidean distance k = 1 AUC: 0.708222541389\n",
      "Distance function: Euclidean distance k = 2 AUC: 0.748413060402\n",
      "Distance function: Euclidean distance k = 4 AUC: 0.77401920825\n",
      "Distance function: Euclidean distance k = 8 AUC: 0.785171994384\n",
      "Distance function: Euclidean distance k = 16 AUC: 0.793293412291\n",
      "Distance function: Euclidean distance k = 32 AUC: 0.803836078961\n",
      "Distance function: Euclidean distance k = 64 AUC: 0.807065938189\n",
      "Distance function: Euclidean distance k = 128 AUC: 0.81839816594\n",
      "Distance function: Euclidean distance k = 256 AUC: 0.824934171794\n",
      "Distance function: Euclidean distance k = 512 AUC: 0.828263680873\n",
      "Distance function: Euclidean distance k = 1024 AUC: 0.827331608825\n"
     ]
    }
   ],
   "source": [
    "param_grid = {\"k\": [1, 2, 4, 8, 16, 32, 64, 128, 256, 512, 1024], \"dst_func\": [\"Euclidean distance\", dst_l2]}\n",
    "parametr_tuning(X_train_pair_counters_no_f, y_train, X_test_pair_counters_no_f, y_test, param_grid=param_grid)"
   ]
  },
  {
   "cell_type": "markdown",
   "metadata": {},
   "source": [
    "1. Счетчики с фолдингом:  максимальный AUC-ROC равен 0.838 при k=256\n",
    "2. Счетчики без фолдинга: максимальный AUC-ROC равен 0.828 при k=512"
   ]
  },
  {
   "cell_type": "markdown",
   "metadata": {},
   "source": [
    "## Часть 2: Решающие деревья и леса"
   ]
  },
  {
   "cell_type": "markdown",
   "metadata": {},
   "source": [
    "#### 1. Возьмите из предыдущей части выборку с парными признаками, преобразованную с помощью счетчиков без фолдинга. Настройте решающее дерево, подобрав оптимальные значения параметров `max_depth` и `min_samples_leaf`. Какой наилучший AUC-ROC на контроле удалось получить?"
   ]
  },
  {
   "cell_type": "code",
   "execution_count": 37,
   "metadata": {
    "collapsed": true
   },
   "outputs": [],
   "source": [
    "def parametr_tuning_tree(X_train, y_train, X_test, y_test, param_grid):\n",
    "    for max_depth in param_grid[\"max_depth\"]:\n",
    "        for min_samples_leaf in param_grid[\"min_samples_leaf\"]:\n",
    "            model = DecisionTreeClassifier(max_depth=max_depth, min_samples_leaf=min_samples_leaf, random_state=1234)\n",
    "            model.fit(X_train.values, y_train)\n",
    "            y_pred = model.predict_proba(X_test.values)[:, 1]\n",
    "            auc = metrics.roc_auc_score(y_test, y_pred)\n",
    "            print \"Max depth:\", max_depth, \"min_samples_leaf:\", min_samples_leaf, \"AUC:\", auc"
   ]
  },
  {
   "cell_type": "code",
   "execution_count": 38,
   "metadata": {
    "collapsed": false,
    "scrolled": true
   },
   "outputs": [],
   "source": [
    "from sklearn.tree import DecisionTreeClassifier"
   ]
  },
  {
   "cell_type": "code",
   "execution_count": 39,
   "metadata": {
    "collapsed": false
   },
   "outputs": [
    {
     "name": "stdout",
     "output_type": "stream",
     "text": [
      "Max depth: 2 min_samples_leaf: 1 AUC: 0.50708394525\n",
      "Max depth: 2 min_samples_leaf: 2 AUC: 0.50708394525\n",
      "Max depth: 2 min_samples_leaf: 4 AUC: 0.50708394525\n",
      "Max depth: 2 min_samples_leaf: 8 AUC: 0.50708394525\n",
      "Max depth: 2 min_samples_leaf: 16 AUC: 0.58629317651\n",
      "Max depth: 2 min_samples_leaf: 32 AUC: 0.58629317651\n",
      "Max depth: 2 min_samples_leaf: 64 AUC: 0.585906078623\n",
      "Max depth: 4 min_samples_leaf: 1 AUC: 0.543733974255\n",
      "Max depth: 4 min_samples_leaf: 2 AUC: 0.543733974255\n",
      "Max depth: 4 min_samples_leaf: 4 AUC: 0.560637158809\n",
      "Max depth: 4 min_samples_leaf: 8 AUC: 0.552624556024\n",
      "Max depth: 4 min_samples_leaf: 16 AUC: 0.629639334033\n",
      "Max depth: 4 min_samples_leaf: 32 AUC: 0.606164920233\n",
      "Max depth: 4 min_samples_leaf: 64 AUC: 0.588939513529\n",
      "Max depth: 6 min_samples_leaf: 1 AUC: 0.557973479661\n",
      "Max depth: 6 min_samples_leaf: 2 AUC: 0.552443586863\n",
      "Max depth: 6 min_samples_leaf: 4 AUC: 0.582379246665\n",
      "Max depth: 6 min_samples_leaf: 8 AUC: 0.583365142213\n",
      "Max depth: 6 min_samples_leaf: 16 AUC: 0.629669525512\n",
      "Max depth: 6 min_samples_leaf: 32 AUC: 0.60620697265\n",
      "Max depth: 6 min_samples_leaf: 64 AUC: 0.587974194912\n",
      "Max depth: 8 min_samples_leaf: 1 AUC: 0.581375020577\n",
      "Max depth: 8 min_samples_leaf: 2 AUC: 0.559749205856\n",
      "Max depth: 8 min_samples_leaf: 4 AUC: 0.61611067621\n",
      "Max depth: 8 min_samples_leaf: 8 AUC: 0.583365142213\n",
      "Max depth: 8 min_samples_leaf: 16 AUC: 0.629669525512\n",
      "Max depth: 8 min_samples_leaf: 32 AUC: 0.60620697265\n",
      "Max depth: 8 min_samples_leaf: 64 AUC: 0.587974194912\n",
      "Max depth: 10 min_samples_leaf: 1 AUC: 0.583587534801\n",
      "Max depth: 10 min_samples_leaf: 2 AUC: 0.559749205856\n",
      "Max depth: 10 min_samples_leaf: 4 AUC: 0.61611067621\n",
      "Max depth: 10 min_samples_leaf: 8 AUC: 0.583365142213\n",
      "Max depth: 10 min_samples_leaf: 16 AUC: 0.629669525512\n",
      "Max depth: 10 min_samples_leaf: 32 AUC: 0.60620697265\n",
      "Max depth: 10 min_samples_leaf: 64 AUC: 0.587974194912\n"
     ]
    }
   ],
   "source": [
    "param_grid = {\"max_depth\" : np.arange(2, 12, 2), \"min_samples_leaf\": [1, 2, 4, 8, 16, 32, 64]}\n",
    "parametr_tuning_tree(X_train_pair_counters_no_f, y_train, X_test_pair_counters_no_f, y_test, param_grid)"
   ]
  },
  {
   "cell_type": "markdown",
   "metadata": {},
   "source": [
    "Максимальный AUC-ROC равен 0.630 при max_depth = 6, min_samples_leaf = 16"
   ]
  },
  {
   "cell_type": "markdown",
   "metadata": {},
   "source": [
    "#### 2. Настройте случайный лес, подобрав оптимальное число деревьев `n_estimators`. Какое качество на тестовой выборке он дает?"
   ]
  },
  {
   "cell_type": "code",
   "execution_count": 40,
   "metadata": {
    "collapsed": true
   },
   "outputs": [],
   "source": [
    "from sklearn.ensemble import RandomForestClassifier"
   ]
  },
  {
   "cell_type": "code",
   "execution_count": 41,
   "metadata": {
    "collapsed": false
   },
   "outputs": [],
   "source": [
    "def parametr_tuning_forest(X_train, y_train, X_test, y_test, param_grid):\n",
    "    for n_estimators in param_grid[\"n_estimators\"]:\n",
    "        model = RandomForestClassifier(n_estimators=n_estimators, random_state=1234)\n",
    "        model.fit(X_train.values, y_train)\n",
    "        y_pred = model.predict_proba(X_test.values)[:, 1]\n",
    "        auc = metrics.roc_auc_score(y_test, y_pred)\n",
    "        print \"# trees:\", n_estimators, \"AUC:\", auc"
   ]
  },
  {
   "cell_type": "code",
   "execution_count": 42,
   "metadata": {
    "collapsed": false
   },
   "outputs": [
    {
     "name": "stdout",
     "output_type": "stream",
     "text": [
      "# trees: 2 AUC: 0.604458921977\n",
      "# trees: 10 AUC: 0.668080274829\n",
      "# trees: 25 AUC: 0.703006963449\n",
      "# trees: 100 AUC: 0.718288883569\n",
      "# trees: 200 AUC: 0.715229210831\n",
      "# trees: 500 AUC: 0.723840970699\n",
      "# trees: 1000 AUC: 0.72835297936\n"
     ]
    }
   ],
   "source": [
    "param_grid = {\"n_estimators\" : [2, 10, 25, 100, 200, 500, 1000]}\n",
    "parametr_tuning_forest(X_train_pair_counters_no_f, y_train, X_test_pair_counters_no_f, y_test, param_grid)"
   ]
  },
  {
   "cell_type": "markdown",
   "metadata": {},
   "source": [
    "Максимальный AUC-ROC равен 0.728 при n_estimators = 1000. Понятно, что с увеличением количества деревьев можно еще улучшить качество."
   ]
  },
  {
   "cell_type": "markdown",
   "metadata": {},
   "source": [
    "#### 3. Возьмите выборку с парными признаками, для которой счетчики посчитаны с фолдингом. Обучите на ней случайный лес, подобрав число деревьев. Какое качество на тестовой выборке он дает? Чем вы можете объяснить изменение результата по сравнению с предыдущим пунктом?"
   ]
  },
  {
   "cell_type": "code",
   "execution_count": 43,
   "metadata": {
    "collapsed": false
   },
   "outputs": [
    {
     "name": "stdout",
     "output_type": "stream",
     "text": [
      "# trees: 2 AUC: 0.725071632877\n",
      "# trees: 10 AUC: 0.812219695483\n",
      "# trees: 25 AUC: 0.838099543462\n",
      "# trees: 100 AUC: 0.849971264182\n",
      "# trees: 200 AUC: 0.855345347385\n",
      "# trees: 500 AUC: 0.858254152586\n",
      "# trees: 1000 AUC: 0.862260274268\n"
     ]
    }
   ],
   "source": [
    "param_grid = {\"n_estimators\" : [2, 10, 25, 100, 200, 500, 1000]}\n",
    "parametr_tuning_forest(X_train_pair_counters_f, y_train, X_test_pair_counters_f, y_test, param_grid)"
   ]
  },
  {
   "cell_type": "markdown",
   "metadata": {
    "collapsed": true
   },
   "source": [
    "Максимальный AUC-ROC равен 0.862 при n_estimators = 1000. При увеличении количества деревьев качество также можно улучшить.\n",
    "\n",
    "Результат деревьев на данных с фолдингом намного лучше, чем без фолдинга. Логично, что леса на счетчиках без фолдинга сильно переобучаются, так как по признакам \"clicks\" будет хорошее разделение на обучении из-за внесенной информации из целевой переменной."
   ]
  },
  {
   "cell_type": "code",
   "execution_count": null,
   "metadata": {
    "collapsed": true
   },
   "outputs": [],
   "source": []
  }
 ],
 "metadata": {
  "kernelspec": {
   "display_name": "Python 2",
   "language": "python",
   "name": "python2"
  },
  "language_info": {
   "codemirror_mode": {
    "name": "ipython",
    "version": 2
   },
   "file_extension": ".py",
   "mimetype": "text/x-python",
   "name": "python",
   "nbconvert_exporter": "python",
   "pygments_lexer": "ipython2",
   "version": "2.7.10"
  }
 },
 "nbformat": 4,
 "nbformat_minor": 0
}
