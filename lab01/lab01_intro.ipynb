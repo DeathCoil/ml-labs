{
 "cells": [
  {
   "cell_type": "markdown",
   "metadata": {},
   "source": [
    "# Лабораторная работа 1. Язык Python, основные библиотеки для анализа данных."
   ]
  },
  {
   "cell_type": "markdown",
   "metadata": {},
   "source": [
    "ФИО: Николаев Владимир Владимирович\n",
    "\n",
    "Группа: 317"
   ]
  },
  {
   "cell_type": "code",
   "execution_count": 1,
   "metadata": {
    "collapsed": true
   },
   "outputs": [],
   "source": [
    "import numpy as np\n",
    "import pandas as pd"
   ]
  },
  {
   "cell_type": "markdown",
   "metadata": {},
   "source": [
    "## Часть 1: Python"
   ]
  },
  {
   "cell_type": "markdown",
   "metadata": {},
   "source": [
    "#### 1. Напишите код, который сформирует список всех натуральных чисел, не превосходящих 100, которые делятся на 7 и не делятся на 5. Нельзя использовать циклы — выполните это задание с помощью list comprehension."
   ]
  },
  {
   "cell_type": "code",
   "execution_count": 2,
   "metadata": {
    "collapsed": false
   },
   "outputs": [
    {
     "data": {
      "text/plain": [
       "[7, 14, 21, 28, 42, 49, 56, 63, 77, 84, 91, 98]"
      ]
     },
     "execution_count": 2,
     "metadata": {},
     "output_type": "execute_result"
    }
   ],
   "source": [
    "[x for x in range(101) if not(x % 7) and x % 5]"
   ]
  },
  {
   "cell_type": "markdown",
   "metadata": {},
   "source": [
    "#### 2. Напишите функцию `sort_tokens(s)`, которая принимает на вход строку, разделяет ее на токены по запятым, сортирует токены с помощью функции `sorted()` и снова соединяет их в одну строку через запятые. Например, для строки `u\"ночь,фонарь,улица\"` функция должна выдать `u\"ночь,улица,фонарь\"`. Придумайте несколько входных строк и протестируйте функцию на них."
   ]
  },
  {
   "cell_type": "markdown",
   "metadata": {},
   "source": [
    "Обратите внимание, что склеить строки можно с помощью конструкции `'x'.join(...)`. Например:"
   ]
  },
  {
   "cell_type": "code",
   "execution_count": 3,
   "metadata": {
    "collapsed": false
   },
   "outputs": [
    {
     "data": {
      "text/plain": [
       "'i! am! very! excited! :-)'"
      ]
     },
     "execution_count": 3,
     "metadata": {},
     "output_type": "execute_result"
    }
   ],
   "source": [
    "'! '.join(['i', 'am', 'very', 'excited', ':-)'])"
   ]
  },
  {
   "cell_type": "code",
   "execution_count": 4,
   "metadata": {
    "collapsed": false
   },
   "outputs": [
    {
     "name": "stdout",
     "output_type": "stream",
     "text": [
      "ночь,улица,фонарь\n",
      "aaaa,bbbb,cccc\n",
      "aaaa,bbbb,cccc\n"
     ]
    }
   ],
   "source": [
    "def sort_tokens(s):\n",
    "    return \",\".join(sorted(s.split(\",\")))\n",
    "\n",
    "s1 = u\"ночь,фонарь,улица\"\n",
    "print(sort_tokens(s1))\n",
    "\n",
    "s2 = \"aaaa,bbbb,cccc\"\n",
    "print(sort_tokens(s2))\n",
    "\n",
    "s3 = \"aaaa,cccc,bbbb\"\n",
    "print(sort_tokens(s3))"
   ]
  },
  {
   "cell_type": "markdown",
   "metadata": {},
   "source": [
    "#### 3. Напишите функцию `remove_duplicates(a)`, которая принимает на вход список и возвращает его же, но без дубликатов и в отсортированном виде. Например, для списка `[u\"ночь\", u\"улица\", u\"фонарь\", u\"аптека\", u\"аптека\", u\"улица\", u\"фонарь\"]` результат должен быть `[u\"аптека\", u\"ночь\", u\"улица\", u\"фонарь\", ]`."
   ]
  },
  {
   "cell_type": "markdown",
   "metadata": {},
   "source": [
    "Подсказка: обратите внимание на структуру `set`!"
   ]
  },
  {
   "cell_type": "code",
   "execution_count": 5,
   "metadata": {
    "collapsed": false
   },
   "outputs": [
    {
     "data": {
      "text/plain": [
       "['аптека', 'ночь', 'улица', 'фонарь']"
      ]
     },
     "execution_count": 5,
     "metadata": {},
     "output_type": "execute_result"
    }
   ],
   "source": [
    "def remove_duplicates(a):\n",
    "    return sorted(set(a))\n",
    "\n",
    "a = [u\"ночь\", u\"улица\", u\"фонарь\", u\"аптека\", u\"аптека\", u\"улица\", u\"фонарь\"]\n",
    "remove_duplicates(a)"
   ]
  },
  {
   "cell_type": "markdown",
   "metadata": {},
   "source": [
    "#### 4. Напишите функцию `word_counts(texts)`, которая принимает на вход список строк, и печатает пары (слово, число вхождений). Считайте, что слова в текстах могут быть разделены только пробелами. Например, для входа `[u'ночь улица фонарь аптека', u'аптека улица фонарь']` должно быть напечатано\n",
    ">аптека 2\n",
    "\n",
    ">улица 2\n",
    "\n",
    ">фонарь 2\n",
    "\n",
    ">ночь 1"
   ]
  },
  {
   "cell_type": "markdown",
   "metadata": {},
   "source": [
    "Подсказки:\n",
    "\n",
    "Чтобы разбить каждый из текстов на слова, воспользуйтесь функцией `map`, которая применяет заданную функцию к каждому элементу списка. Например, если бы нужно было каждый из текстов привести к нижнему регистру, то команда выглядела бы так:"
   ]
  },
  {
   "cell_type": "code",
   "execution_count": 6,
   "metadata": {
    "collapsed": false
   },
   "outputs": [
    {
     "data": {
      "text/plain": [
       "<map at 0x7f08b595da58>"
      ]
     },
     "execution_count": 6,
     "metadata": {},
     "output_type": "execute_result"
    }
   ],
   "source": [
    "map(lambda x: x.lower(), [\"abCDefg\", \"HIjkL\"])"
   ]
  },
  {
   "cell_type": "markdown",
   "metadata": {},
   "source": [
    "После первого шага вы получите список, состоящий из списков слов. Чтобы объединить их в один список слов, воспользуйтесь функцией `reduce`. Например, просуммировать числа из списка с ее помощью можно так:\n",
    "\n"
   ]
  },
  {
   "cell_type": "code",
   "execution_count": 7,
   "metadata": {
    "collapsed": false
   },
   "outputs": [
    {
     "ename": "NameError",
     "evalue": "name 'reduce' is not defined",
     "output_type": "error",
     "traceback": [
      "\u001b[1;31m---------------------------------------------------------------------------\u001b[0m",
      "\u001b[1;31mNameError\u001b[0m                                 Traceback (most recent call last)",
      "\u001b[1;32m<ipython-input-7-fe183403535e>\u001b[0m in \u001b[0;36m<module>\u001b[1;34m()\u001b[0m\n\u001b[1;32m----> 1\u001b[1;33m \u001b[0mreduce\u001b[0m\u001b[1;33m(\u001b[0m\u001b[1;32mlambda\u001b[0m \u001b[0mx\u001b[0m\u001b[1;33m,\u001b[0m \u001b[0my\u001b[0m\u001b[1;33m:\u001b[0m \u001b[0mx\u001b[0m \u001b[1;33m+\u001b[0m \u001b[0my\u001b[0m\u001b[1;33m,\u001b[0m \u001b[1;33m[\u001b[0m\u001b[1;36m1\u001b[0m\u001b[1;33m,\u001b[0m \u001b[1;36m2\u001b[0m\u001b[1;33m,\u001b[0m \u001b[1;36m3\u001b[0m\u001b[1;33m,\u001b[0m \u001b[1;36m4\u001b[0m\u001b[1;33m,\u001b[0m \u001b[1;36m5\u001b[0m\u001b[1;33m]\u001b[0m\u001b[1;33m)\u001b[0m\u001b[1;33m\u001b[0m\u001b[0m\n\u001b[0m",
      "\u001b[1;31mNameError\u001b[0m: name 'reduce' is not defined"
     ]
    }
   ],
   "source": [
    "reduce(lambda x, y: x + y, [1, 2, 3, 4, 5])"
   ]
  },
  {
   "cell_type": "markdown",
   "metadata": {},
   "source": [
    "Для подсчета количества вхождений слов воспользуйтесь структурой `defaultdict` из модуля `collections`. В отличие от обычного `dict`, она не генерирует ошибку при обращении к несуществущему ключу, а создает новую запись, инициализируемую нулевым значением. Например:"
   ]
  },
  {
   "cell_type": "code",
   "execution_count": 8,
   "metadata": {
    "collapsed": false
   },
   "outputs": [
    {
     "ename": "SyntaxError",
     "evalue": "Missing parentheses in call to 'print' (<ipython-input-8-95bf4c99c5b8>, line 3)",
     "output_type": "error",
     "traceback": [
      "\u001b[1;36m  File \u001b[1;32m\"<ipython-input-8-95bf4c99c5b8>\"\u001b[1;36m, line \u001b[1;32m3\u001b[0m\n\u001b[1;33m    print d\u001b[0m\n\u001b[1;37m          ^\u001b[0m\n\u001b[1;31mSyntaxError\u001b[0m\u001b[1;31m:\u001b[0m Missing parentheses in call to 'print'\n"
     ]
    }
   ],
   "source": [
    "from collections import defaultdict\n",
    "d = defaultdict(int)\n",
    "print d\n",
    "d['abc'] += 1\n",
    "print d\n",
    "d['xxx']\n",
    "print d"
   ]
  },
  {
   "cell_type": "code",
   "execution_count": 9,
   "metadata": {
    "collapsed": false
   },
   "outputs": [
    {
     "name": "stdout",
     "output_type": "stream",
     "text": [
      "аптека 2\n",
      "ночь 1\n",
      "фонарь 2\n",
      "улица 2\n"
     ]
    }
   ],
   "source": [
    "from functools import reduce\n",
    "from collections import Counter\n",
    "\n",
    "def word_counts(texts):\n",
    "    #Counter is better than defaultdict for this task imho\n",
    "    counter = Counter(reduce(lambda x, y: x + y, map(lambda x: x.split(\" \"), texts)))\n",
    "    for key in counter:\n",
    "        print(key, counter[key])\n",
    "\n",
    "s1 = [u'ночь улица фонарь аптека', u'аптека улица фонарь']\n",
    "word_counts(s1)"
   ]
  },
  {
   "cell_type": "markdown",
   "metadata": {},
   "source": [
    "#### 5. (бонусное задание) Скачайте английский перевод \"Преступления и наказания\". Найдите 20 самых популярных слов и 20 слов, которые встречаются только один раз."
   ]
  },
  {
   "cell_type": "markdown",
   "metadata": {},
   "source": [
    "Приведите текст к нижнему регистру. Удалите из него все специальные символы и цифры. Разделите текст на слова, считая разделителями все, кроме букв. Обратите внимание на функцию `split` из модуля `re`.\n",
    "\n",
    "Не забудьте удалить пустые слова:\n",
    "```\n",
    "words = filter(lambda x: len(x) > 0, words)\n",
    "```"
   ]
  },
  {
   "cell_type": "code",
   "execution_count": 10,
   "metadata": {
    "collapsed": false
   },
   "outputs": [
    {
     "ename": "ImportError",
     "evalue": "cannot import name 'urlopen'",
     "output_type": "error",
     "traceback": [
      "\u001b[1;31m---------------------------------------------------------------------------\u001b[0m",
      "\u001b[1;31mImportError\u001b[0m                               Traceback (most recent call last)",
      "\u001b[1;32m<ipython-input-10-b7327e37b828>\u001b[0m in \u001b[0;36m<module>\u001b[1;34m()\u001b[0m\n\u001b[1;32m----> 1\u001b[1;33m \u001b[1;32mfrom\u001b[0m \u001b[0murllib\u001b[0m \u001b[1;32mimport\u001b[0m \u001b[0murlopen\u001b[0m\u001b[1;33m\u001b[0m\u001b[0m\n\u001b[0m\u001b[0;32m      2\u001b[0m \u001b[0murl\u001b[0m \u001b[1;33m=\u001b[0m \u001b[1;34m\"http://www.gutenberg.org/files/2554/2554.txt\"\u001b[0m\u001b[1;33m\u001b[0m\u001b[0m\n\u001b[0;32m      3\u001b[0m \u001b[0mresponse\u001b[0m \u001b[1;33m=\u001b[0m \u001b[0murlopen\u001b[0m\u001b[1;33m(\u001b[0m\u001b[0murl\u001b[0m\u001b[1;33m)\u001b[0m\u001b[1;33m\u001b[0m\u001b[0m\n\u001b[0;32m      4\u001b[0m \u001b[0mraw_text\u001b[0m \u001b[1;33m=\u001b[0m \u001b[0mresponse\u001b[0m\u001b[1;33m.\u001b[0m\u001b[0mread\u001b[0m\u001b[1;33m(\u001b[0m\u001b[1;33m)\u001b[0m\u001b[1;33m.\u001b[0m\u001b[0mdecode\u001b[0m\u001b[1;33m(\u001b[0m\u001b[1;34m'utf8'\u001b[0m\u001b[1;33m)\u001b[0m\u001b[1;33m\u001b[0m\u001b[0m\n",
      "\u001b[1;31mImportError\u001b[0m: cannot import name 'urlopen'"
     ]
    }
   ],
   "source": [
    "from urllib import urlopen\n",
    "url = \"http://www.gutenberg.org/files/2554/2554.txt\"\n",
    "response = urlopen(url)\n",
    "raw_text = response.read().decode('utf8')"
   ]
  },
  {
   "cell_type": "code",
   "execution_count": 11,
   "metadata": {
    "collapsed": false
   },
   "outputs": [
    {
     "ename": "NameError",
     "evalue": "name 'raw_text' is not defined",
     "output_type": "error",
     "traceback": [
      "\u001b[1;31m---------------------------------------------------------------------------\u001b[0m",
      "\u001b[1;31mNameError\u001b[0m                                 Traceback (most recent call last)",
      "\u001b[1;32m<ipython-input-11-09bb936ce43c>\u001b[0m in \u001b[0;36m<module>\u001b[1;34m()\u001b[0m\n\u001b[1;32m----> 1\u001b[1;33m \u001b[0mraw_text\u001b[0m\u001b[1;33m[\u001b[0m\u001b[1;36m1000\u001b[0m\u001b[1;33m:\u001b[0m\u001b[1;36m1100\u001b[0m\u001b[1;33m]\u001b[0m\u001b[1;33m\u001b[0m\u001b[0m\n\u001b[0m",
      "\u001b[1;31mNameError\u001b[0m: name 'raw_text' is not defined"
     ]
    }
   ],
   "source": [
    "raw_text[1000:1100]"
   ]
  },
  {
   "cell_type": "code",
   "execution_count": 12,
   "metadata": {
    "collapsed": false,
    "scrolled": false
   },
   "outputs": [
    {
     "name": "stdout",
     "output_type": "stream",
     "text": [
      "\n",
      "Most common words are:\n",
      "the 8003\n",
      "and 7042\n",
      "to 5497\n",
      "he 4900\n",
      "a 4668\n",
      "i 4405\n",
      "you 4118\n",
      "of 3928\n",
      "it 3463\n",
      "that 3308\n",
      "in 3254\n",
      "was 2827\n",
      "his 2116\n",
      "at 2082\n",
      "her 1829\n",
      "but 1801\n",
      "not 1775\n",
      "s 1765\n",
      "with 1757\n",
      "she 1695\n",
      "\n",
      "Least common words are:\n",
      "stratagem 1\n",
      "mechanics 1\n",
      "consoled 1\n",
      "suggestions 1\n",
      "squabbles 1\n",
      "reception 1\n",
      "foam 1\n",
      "irrational 1\n",
      "hail 1\n",
      "peremptory 1\n",
      "amateur 1\n",
      "owning 1\n",
      "coiners 1\n",
      "grows 1\n",
      "submission 1\n",
      "recklessness 1\n",
      "nonentity 1\n",
      "tipsily 1\n",
      "shil 1\n",
      "speck 1\n"
     ]
    }
   ],
   "source": [
    "import re\n",
    "import string\n",
    "f = open(\"2554.txt\", \"r\")\n",
    "raw_text = f.readlines()\n",
    "\n",
    "raw_text = reduce(lambda x,y: x+y, raw_text, \"\")\n",
    "raw_text = raw_text.lower()\n",
    "allow = string.ascii_lowercase + ' '\n",
    "raw_text = \" \" + re.sub('[^%s]' % allow, ' ', raw_text)\n",
    "words = re.split('[^%s]' % string.ascii_lowercase, raw_text)\n",
    "words = filter(lambda x: len(x) > 0, words)\n",
    "\n",
    "print(\"\\nMost common words are:\")\n",
    "counter = Counter(words)\n",
    "for word, count in counter.most_common(20):\n",
    "    print(word, count)\n",
    "\n",
    "print(\"\\nLeast common words are:\")\n",
    "for word, count in counter.most_common()[:-21:-1]:\n",
    "    print(word, count)"
   ]
  },
  {
   "cell_type": "markdown",
   "metadata": {},
   "source": [
    "1765 слов \"s\", наверное, от \"something's\" "
   ]
  },
  {
   "cell_type": "markdown",
   "metadata": {},
   "source": [
    "## Часть 2: NumPy и SciPy"
   ]
  },
  {
   "cell_type": "markdown",
   "metadata": {},
   "source": [
    "#### 1. Повторите 1000 раз следующий эксперимент: сгенерируйте две матрицы размера $10 \\times 10$ из стандартного нормального распределения, перемножьте их (как матрицы) и найдите максимальный элемент. Какое среднее значение по экспериментам у максимальных элементов? 95-процентная квантиль?"
   ]
  },
  {
   "cell_type": "markdown",
   "metadata": {},
   "source": [
    "Для вычисления квантили воспользуйтесь функцией `np.percentile`"
   ]
  },
  {
   "cell_type": "code",
   "execution_count": 13,
   "metadata": {
    "collapsed": false
   },
   "outputs": [
    {
     "name": "stdout",
     "output_type": "stream",
     "text": [
      "max:  8.48991462837\n",
      "95 percentile: 12.3514451891\n"
     ]
    }
   ],
   "source": [
    "avg_max_vector = np.array([])\n",
    "\n",
    "for it in range(1000):\n",
    "    m1 = np.random.normal(0, 1, (10, 10))\n",
    "    m2 = np.random.normal(0, 1, (10, 10))\n",
    "    avg_max_vector = np.append(avg_max_vector, np.max(np.dot(m1, m2)))\n",
    "    \n",
    "print(\"max: \", np.average(avg_max_vector))\n",
    "print(\"95 percentile:\", np.percentile(avg_max_vector, 95))"
   ]
  },
  {
   "cell_type": "markdown",
   "metadata": {},
   "source": [
    "#### 2. Сгенерируйте 1000 чисел из распределения Пуассона с параметром $\\lambda = 5$. Сформируйте массив, в котором в i-м элементе будет записано количество сгенерированных чисел, равных i."
   ]
  },
  {
   "cell_type": "markdown",
   "metadata": {},
   "source": [
    "Обратите внимание на функцию `np.bincount`"
   ]
  },
  {
   "cell_type": "code",
   "execution_count": 14,
   "metadata": {
    "collapsed": false
   },
   "outputs": [
    {
     "name": "stdout",
     "output_type": "stream",
     "text": [
      "[  6  30  83 134 172 181 166 109  59  36  11   7   3   3]\n"
     ]
    }
   ],
   "source": [
    "a = np.random.poisson(5, 1000)\n",
    "counter = np.bincount(a)\n",
    "print(counter)"
   ]
  },
  {
   "cell_type": "markdown",
   "metadata": {},
   "source": [
    "#### 3. Реализуйте функцию, которая принимает на вход numpy-массив целых чисел `a`, и генерирует массив, в котором число `i` встречается `a[i]` раз. Протестируйте на результате из прошлого задания."
   ]
  },
  {
   "cell_type": "markdown",
   "metadata": {},
   "source": [
    "Обратите внимание на функцию `np.repeat`"
   ]
  },
  {
   "cell_type": "code",
   "execution_count": 15,
   "metadata": {
    "collapsed": false
   },
   "outputs": [
    {
     "name": "stdout",
     "output_type": "stream",
     "text": [
      "[  0   0   0 ..., 999 999 999]\n"
     ]
    }
   ],
   "source": [
    "def repeater(a):\n",
    "    return np.repeat(range(len(a)), a)\n",
    "\n",
    "print(repeater(a))"
   ]
  },
  {
   "cell_type": "markdown",
   "metadata": {},
   "source": [
    "#### 4. Напишите функцию `scale(X)`, которая принимает на вход матрицу и масштабирует каждый ее столбец (вычитает среднее и делит на стандартное отклонение). Убедитесь, что в функции не будет происходить деления на ноль. Протестируйте на каких-нибудь данных."
   ]
  },
  {
   "cell_type": "code",
   "execution_count": 16,
   "metadata": {
    "collapsed": false
   },
   "outputs": [
    {
     "name": "stdout",
     "output_type": "stream",
     "text": [
      "[[-1.  0.]\n",
      " [ 1.  0.]]\n"
     ]
    }
   ],
   "source": [
    "def scale(X):\n",
    "    mean = np.mean(X, axis = 0)\n",
    "    std = np.std(X, axis = 0)\n",
    "    std[np.abs(std) < 1e-9] = 1\n",
    "    X = (X - mean) / std\n",
    "    return X\n",
    "\n",
    "x = np.array([[1000, 1], [3000, 1]])\n",
    "print(scale(x))"
   ]
  },
  {
   "cell_type": "markdown",
   "metadata": {},
   "source": [
    "#### 5. Сгенерируйте матрицу с элементами из нормального распределения $\\mathcal{N}(10, 1)$. Найдите ее:\n",
    "- определитель\n",
    "- след\n",
    "- наименьший и наибольший элементы\n",
    "- спектральную норму\n",
    "- норму Фробениуса\n",
    "- собственные числа\n",
    "- обратную матрицу"
   ]
  },
  {
   "cell_type": "code",
   "execution_count": 17,
   "metadata": {
    "collapsed": false
   },
   "outputs": [
    {
     "name": "stdout",
     "output_type": "stream",
     "text": [
      "Matrix:\n",
      " [[  8.02036802   8.61957099  10.34965565   9.37221754   9.63124136]\n",
      " [  9.16201886  11.77164975   9.07152013  10.18305613   9.83395571]\n",
      " [ 10.30832248   9.79158691   9.79390269   8.87635844  10.85860878]\n",
      " [ 11.4673618    9.54799083  11.37340141  10.61819837   8.96405666]\n",
      " [ 10.87062711  10.57055972   9.19742981   8.99858035   9.38746434]]\n",
      "Det:  113.449267523\n",
      "Trace:  49.5915831603\n",
      "Min:  8.02036801895  Max:  11.7716497451 \n",
      "Spectral norm:  49.373548448\n",
      "Frobenius norm:  49.5481639707\n",
      "Eigenvalues:\n",
      " [ 49.31246174+0.j          -2.14651281+0.j          -0.36340442+0.j\n",
      "   1.39451933+1.00231328j   1.39451933-1.00231328j]\n",
      "Inverse matrix:\n",
      " [[-0.56226651  0.05834023  0.4503294   0.357769   -0.34678194]\n",
      " [ 0.86227287 -0.42189949 -1.14696534 -0.76977085  1.61906342]\n",
      " [ 1.47460899 -1.00207448 -1.44996128 -0.824636    2.00146561]\n",
      " [-1.35206862  1.13676048  1.30390113  1.14906985 -2.40913112]\n",
      " [-0.46854313  0.29963342  0.94076103  0.15896408 -0.9666347 ]]\n"
     ]
    }
   ],
   "source": [
    "m = np.random.normal(10, 1, (5, 5))\n",
    "print(\"Matrix:\\n\", m)\n",
    "print(\"Det: \", np.linalg.det(m))\n",
    "print(\"Trace: \", np.trace(m))\n",
    "print(\"Min: \", np.min(m), \" Max: \", np.max(m), \"\")\n",
    "print(\"Spectral norm: \", np.linalg.norm(m, ord = 2))\n",
    "print(\"Frobenius norm: \", np.linalg.norm(m, ord = \"fro\"))\n",
    "print(\"Eigenvalues:\\n\", np.linalg.eig(m)[0])\n",
    "print(\"Inverse matrix:\\n\", np.linalg.inv(m))"
   ]
  },
  {
   "cell_type": "markdown",
   "metadata": {},
   "source": [
    "## Часть 3: Pandas"
   ]
  },
  {
   "cell_type": "markdown",
   "metadata": {},
   "source": [
    "#### Ответьте на вопросы о данных по авиарейсам в США за январь-апрель 2008 года.\n",
    "\n",
    "Данные: http://stat-computing.org/dataexpo/2009/2008.csv.bz2\n",
    "(обратите внимание, что распаковывать этот файл не обязательно — функция `pandas.read_csv` умеет читать из архивов автоматически)\n",
    "\n",
    "Описание: http://stat-computing.org/dataexpo/2009/the-data.html\n",
    "\n",
    "1. Какая из причин отмены рейса (`CancellationCode`) была самой частой? (расшифровки кодов можно найти в описании данных)\n",
    "2. Найдите среднее, минимальное и максимальное расстояние, пройденное самолетом.\n",
    "3. Не выглядит ли подозрительным минимальное пройденное расстояние? В какие дни и на каких рейсах оно было? Какое расстояние было пройдено этими же рейсами в другие дни?\n",
    "4. Из какого аэропорта было произведено больше всего вылетов? В каком городе он находится?\n",
    "5. Найдите для каждого аэропорта среднее время полета (`AirTime`) по всем вылетевшим из него рейсам. Какой аэропорт имеет наибольшее значение этого показателя?\n",
    "6. Найдите аэропорт, у которого наибольшая доля задержанных (`DepDelay > 0`) рейсов. Исключите при этом из рассмотрения аэропорты, из которых было отправлено меньше 1000 рейсов (используйте функцию `filter` после `groupby`)."
   ]
  },
  {
   "cell_type": "code",
   "execution_count": 18,
   "metadata": {
    "collapsed": false
   },
   "outputs": [],
   "source": [
    "data = pd.read_csv(\"2008.csv.bz2\")"
   ]
  },
  {
   "cell_type": "code",
   "execution_count": 19,
   "metadata": {
    "collapsed": false
   },
   "outputs": [
    {
     "name": "stdout",
     "output_type": "stream",
     "text": [
      "NaN    6872294\n",
      "B        54904\n",
      "A        54330\n",
      "C        28188\n",
      "D           12\n",
      "dtype: int64\n",
      "7009728\n"
     ]
    }
   ],
   "source": [
    "print(data[\"CancellationCode\"].value_counts(dropna=False))\n",
    "print(len(data))"
   ]
  },
  {
   "cell_type": "markdown",
   "metadata": {},
   "source": [
    "Самой частой причиной были погодные условия (B - weather)."
   ]
  },
  {
   "cell_type": "code",
   "execution_count": 20,
   "metadata": {
    "collapsed": false
   },
   "outputs": [
    {
     "data": {
      "text/plain": [
       "count    7009728.000000\n",
       "mean         726.387029\n",
       "std          562.101803\n",
       "min           11.000000\n",
       "25%          325.000000\n",
       "50%          581.000000\n",
       "75%          954.000000\n",
       "max         4962.000000\n",
       "Name: Distance, dtype: float64"
      ]
     },
     "execution_count": 20,
     "metadata": {},
     "output_type": "execute_result"
    }
   ],
   "source": [
    "data[\"Distance\"].describe()"
   ]
  },
  {
   "cell_type": "markdown",
   "metadata": {},
   "source": [
    "* Среднее: 726.38 миль\n",
    "* Минимальное: 11 миль\n",
    "* Максимальное: 4962 миль"
   ]
  },
  {
   "cell_type": "code",
   "execution_count": 21,
   "metadata": {
    "collapsed": false
   },
   "outputs": [
    {
     "data": {
      "text/html": [
       "<div>\n",
       "<table border=\"1\" class=\"dataframe\">\n",
       "  <thead>\n",
       "    <tr style=\"text-align: right;\">\n",
       "      <th></th>\n",
       "      <th>Year</th>\n",
       "      <th>Month</th>\n",
       "      <th>DayofMonth</th>\n",
       "      <th>DayOfWeek</th>\n",
       "      <th>FlightNum</th>\n",
       "      <th>UniqueCarrier</th>\n",
       "    </tr>\n",
       "  </thead>\n",
       "  <tbody>\n",
       "    <tr>\n",
       "      <th>2547298</th>\n",
       "      <td>2008</td>\n",
       "      <td>5</td>\n",
       "      <td>15</td>\n",
       "      <td>4</td>\n",
       "      <td>4988</td>\n",
       "      <td>OH</td>\n",
       "    </tr>\n",
       "    <tr>\n",
       "      <th>4392215</th>\n",
       "      <td>2008</td>\n",
       "      <td>8</td>\n",
       "      <td>10</td>\n",
       "      <td>7</td>\n",
       "      <td>5572</td>\n",
       "      <td>OH</td>\n",
       "    </tr>\n",
       "  </tbody>\n",
       "</table>\n",
       "</div>"
      ],
      "text/plain": [
       "         Year  Month  DayofMonth  DayOfWeek  FlightNum UniqueCarrier\n",
       "2547298  2008      5          15          4       4988            OH\n",
       "4392215  2008      8          10          7       5572            OH"
      ]
     },
     "execution_count": 21,
     "metadata": {},
     "output_type": "execute_result"
    }
   ],
   "source": [
    "subset = data[(data[\"Distance\"] - 11) < 0.5]\n",
    "subset[[\"Year\",\"Month\",\"DayofMonth\",\"DayOfWeek\", \"FlightNum\", \"UniqueCarrier\"]]"
   ]
  },
  {
   "cell_type": "code",
   "execution_count": 22,
   "metadata": {
    "collapsed": false
   },
   "outputs": [
    {
     "name": "stdout",
     "output_type": "stream",
     "text": [
      "Flight 4988 by carrier 'OH':\n",
      "count    132.000000\n",
      "mean     822.174242\n",
      "std       95.849476\n",
      "min       11.000000\n",
      "25%      834.000000\n",
      "50%      834.000000\n",
      "75%      834.000000\n",
      "max      834.000000\n",
      "Name: Distance, dtype: float64\n",
      "\n",
      "Flight 5572 by carrier 'OH':\n",
      "count    244.000000\n",
      "mean     541.815574\n",
      "std       34.121829\n",
      "min       11.000000\n",
      "25%      544.000000\n",
      "50%      544.000000\n",
      "75%      544.000000\n",
      "max      544.000000\n",
      "Name: Distance, dtype: float64\n"
     ]
    }
   ],
   "source": [
    "print(\"Flight 4988 by carrier 'OH':\")\n",
    "print(data[np.logical_and(data[\"FlightNum\"] == 4988, data[\"UniqueCarrier\"] == \"OH\")][\"Distance\"].describe())\n",
    "print(\"\\nFlight 5572 by carrier 'OH':\")\n",
    "print(data[np.logical_and(data[\"FlightNum\"] == 5572, data[\"UniqueCarrier\"] == \"OH\")][\"Distance\"].describe())"
   ]
  },
  {
   "cell_type": "markdown",
   "metadata": {},
   "source": [
    "Минимальное расстояние в 11 миль было пройдено рейсами 4988 (15/5/2008) и  5572 (10/8/2008).\n",
    "Среднее растояние на этих рейсах равно 822.17 и 541.82 милям соответственно."
   ]
  },
  {
   "cell_type": "code",
   "execution_count": 23,
   "metadata": {
    "collapsed": false
   },
   "outputs": [
    {
     "data": {
      "text/plain": [
       "ATL    414513\n",
       "dtype: int64"
      ]
     },
     "execution_count": 23,
     "metadata": {},
     "output_type": "execute_result"
    }
   ],
   "source": [
    "data[\"Origin\"].value_counts()[:1]"
   ]
  },
  {
   "cell_type": "markdown",
   "metadata": {},
   "source": [
    "Больше всего вылетов было произведено из аэропорта ATL (\"William B Hartsfield-Atlanta Intl\", Atlanta)"
   ]
  },
  {
   "cell_type": "code",
   "execution_count": 24,
   "metadata": {
    "collapsed": false
   },
   "outputs": [
    {
     "name": "stdout",
     "output_type": "stream",
     "text": [
      "SJU\n"
     ]
    }
   ],
   "source": [
    "mean_air_time = data.groupby(\"Origin\")[\"AirTime\"].mean()\n",
    "print(np.argmax(mean_air_time))"
   ]
  },
  {
   "cell_type": "markdown",
   "metadata": {},
   "source": [
    "Наибольшее среднее время полета имеет аэропорт SJU (\"Luis Munoz Marin International\",San Juan)"
   ]
  },
  {
   "cell_type": "code",
   "execution_count": 25,
   "metadata": {
    "collapsed": false
   },
   "outputs": [],
   "source": [
    "data = data.groupby(\"Origin\").filter(lambda x: len(x) >= 1000)"
   ]
  },
  {
   "cell_type": "code",
   "execution_count": 26,
   "metadata": {
    "collapsed": false
   },
   "outputs": [],
   "source": [
    "data_delayed = data[data[\"DepDelay\"] > 0].groupby(\"Origin\").size()"
   ]
  },
  {
   "cell_type": "code",
   "execution_count": 27,
   "metadata": {
    "collapsed": true
   },
   "outputs": [],
   "source": [
    "data_all = data.groupby(\"Origin\").size()"
   ]
  },
  {
   "cell_type": "code",
   "execution_count": 28,
   "metadata": {
    "collapsed": false
   },
   "outputs": [],
   "source": [
    "df = pd.concat([data_all, data_delayed], axis = 1)"
   ]
  },
  {
   "cell_type": "code",
   "execution_count": 29,
   "metadata": {
    "collapsed": false
   },
   "outputs": [
    {
     "data": {
      "text/plain": [
       "'DAL'"
      ]
     },
     "execution_count": 29,
     "metadata": {},
     "output_type": "execute_result"
    }
   ],
   "source": [
    "np.argmax(df[1] / df[0])"
   ]
  },
  {
   "cell_type": "markdown",
   "metadata": {},
   "source": [
    "DAL (\"Dallas Love\", Dallas)- аэропорт с наибольшей долей задержанных рейсов."
   ]
  }
 ],
 "metadata": {
  "kernelspec": {
   "display_name": "Python 3",
   "language": "python",
   "name": "python3"
  },
  "language_info": {
   "codemirror_mode": {
    "name": "ipython",
    "version": 3
   },
   "file_extension": ".py",
   "mimetype": "text/x-python",
   "name": "python",
   "nbconvert_exporter": "python",
   "pygments_lexer": "ipython3",
   "version": "3.4.3"
  }
 },
 "nbformat": 4,
 "nbformat_minor": 0
}
